{
 "cells": [
  {
   "cell_type": "markdown",
   "metadata": {
    "id": "W8HrmHj7LN1y"
   },
   "source": [
    "Exercise is meant for you to experiment with cython and numba to see how much efficiency can be obtained by using these two tools"
   ]
  },
  {
   "cell_type": "code",
   "execution_count": 1,
   "metadata": {
    "executionInfo": {
     "elapsed": 260,
     "status": "ok",
     "timestamp": 1660330931940,
     "user": {
      "displayName": "Changshuo Liu",
      "userId": "08519422333410533130"
     },
     "user_tz": 240
    },
    "id": "iv3vfpzxQisM"
   },
   "outputs": [],
   "source": [
    "import numpy as np\n",
    "import seaborn as sb\n",
    "import pandas as pd"
   ]
  },
  {
   "cell_type": "code",
   "execution_count": 2,
   "metadata": {
    "executionInfo": {
     "elapsed": 5,
     "status": "ok",
     "timestamp": 1660328552742,
     "user": {
      "displayName": "Changshuo Liu",
      "userId": "08519422333410533130"
     },
     "user_tz": 240
    },
    "id": "duLFBDZPPheC"
   },
   "outputs": [],
   "source": [
    "class Particle:\n",
    "  def __init__(self, x, y, ang_speed):\n",
    "    self.x = x\n",
    "    self.y = y\n",
    "    self.ang_speed = ang_speed"
   ]
  },
  {
   "cell_type": "code",
   "execution_count": 18,
   "metadata": {
    "executionInfo": {
     "elapsed": 203,
     "status": "ok",
     "timestamp": 1660330902316,
     "user": {
      "displayName": "Changshuo Liu",
      "userId": "08519422333410533130"
     },
     "user_tz": 240
    },
    "id": "eoSyUNXJCZB-"
   },
   "outputs": [],
   "source": [
    "def evolve_wrapper(dt, particles):\n",
    "  timestep = 0.001\n",
    "  nsteps = int(dt/timestep)\n",
    "  r_i = np.array([[p.x, p.y] for p in particles])\n",
    "  ang_speed = np.array([p.ang_speed for p in particles])\n",
    "  evolve(r_i, ang_speed, timestep, nsteps)\n",
    "\n",
    "  for i, p in enumerate(particles):\n",
    "    p.x, p.y = r_i[i]\n",
    "\n",
    "def evolve(r_i, ang_speed, timestep, nsteps):\n",
    "  v_i = np.empty_like(r_i)\n",
    "  for i in range(nsteps):\n",
    "    norm_i = np.sqrt((r_i ** 2).sum(axis=1))\n",
    "    v_i = r_i[:, [1,0]]\n",
    "    v_i[:, 0] *= -1\n",
    "    v_i /= norm_i[:, np.newaxis]\n",
    "    d_i = timestep * ang_speed[:, np.newaxis] * v_i\n",
    "\n",
    "    r_i += d_i"
   ]
  },
  {
   "cell_type": "code",
   "execution_count": 19,
   "metadata": {
    "executionInfo": {
     "elapsed": 235,
     "status": "ok",
     "timestamp": 1660330962468,
     "user": {
      "displayName": "Changshuo Liu",
      "userId": "08519422333410533130"
     },
     "user_tz": 240
    },
    "id": "H6YiZC1qV6PI"
   },
   "outputs": [],
   "source": [
    "n_particle = 100\n",
    "coord = np.random.randn(n_particle, 3)\n",
    "particles = []\n",
    "for i in range(0, n_particle):\n",
    "  particles.append(Particle(coord[i][0], coord[i][1], coord[i][2]))"
   ]
  },
  {
   "cell_type": "code",
   "execution_count": 20,
   "metadata": {
    "colab": {
     "base_uri": "https://localhost:8080/",
     "height": 296
    },
    "executionInfo": {
     "elapsed": 11,
     "status": "ok",
     "timestamp": 1660330962722,
     "user": {
      "displayName": "Changshuo Liu",
      "userId": "08519422333410533130"
     },
     "user_tz": 240
    },
    "id": "Q6ZsQRA0bM_X",
    "outputId": "ed8d4ba2-1a96-4bd9-be8e-257bdc6040fc"
   },
   "outputs": [
    {
     "data": {
      "text/plain": [
       "<AxesSubplot:xlabel='x', ylabel='y'>"
      ]
     },
     "execution_count": 20,
     "metadata": {},
     "output_type": "execute_result"
    },
    {
     "data": {
      "image/png": "[encoded data removed]",
      "text/plain": [
       "<Figure size 432x288 with 1 Axes>"
      ]
     },
     "metadata": {
      "needs_background": "light"
     },
     "output_type": "display_data"
    }
   ],
   "source": [
    "sb.scatterplot(x='x', y='y', data=pd.DataFrame([[p.x,p.y] for p in particles],columns = ['x', 'y']))"
   ]
  },
  {
   "cell_type": "code",
   "execution_count": 21,
   "metadata": {
    "executionInfo": {
     "elapsed": 3,
     "status": "ok",
     "timestamp": 1660330962939,
     "user": {
      "displayName": "Changshuo Liu",
      "userId": "08519422333410533130"
     },
     "user_tz": 240
    },
    "id": "OecxMgYKbppR"
   },
   "outputs": [],
   "source": [
    "evolve_wrapper(1, particles)"
   ]
  },
  {
   "cell_type": "code",
   "execution_count": 22,
   "metadata": {
    "colab": {
     "base_uri": "https://localhost:8080/",
     "height": 296
    },
    "executionInfo": {
     "elapsed": 234,
     "status": "ok",
     "timestamp": 1660330964561,
     "user": {
      "displayName": "Changshuo Liu",
      "userId": "08519422333410533130"
     },
     "user_tz": 240
    },
    "id": "Pwr0aCHXblyO",
    "outputId": "e1221b1e-7756-4098-ae3b-4a3293002307"
   },
   "outputs": [
    {
     "data": {
      "text/plain": [
       "<AxesSubplot:xlabel='x', ylabel='y'>"
      ]
     },
     "execution_count": 22,
     "metadata": {},
     "output_type": "execute_result"
    },
    {
     "data": {
      "image/png": "[encoded data removed]",
      "text/plain": [
       "<Figure size 432x288 with 1 Axes>"
      ]
     },
     "metadata": {
      "needs_background": "light"
     },
     "output_type": "display_data"
    }
   ],
   "source": [
    "sb.scatterplot(x='x', y='y', data=pd.DataFrame([[p.x,p.y] for p in particles],columns = ['x', 'y']))"
   ]
  },
  {
   "cell_type": "code",
   "execution_count": 24,
   "metadata": {
    "colab": {
     "base_uri": "https://localhost:8080/"
    },
    "executionInfo": {
     "elapsed": 1889,
     "status": "ok",
     "timestamp": 1660330992404,
     "user": {
      "displayName": "Changshuo Liu",
      "userId": "08519422333410533130"
     },
     "user_tz": 240
    },
    "id": "ozTW98facEM6",
    "outputId": "5df3ebeb-b38b-4499-c20d-9dff05dd7c08"
   },
   "outputs": [
    {
     "name": "stdout",
     "output_type": "stream",
     "text": [
      "16.3 ms ± 1.09 ms per loop (mean ± std. dev. of 7 runs, 10 loops each)\n"
     ]
    }
   ],
   "source": [
    "%timeit -n 10 evolve_wrapper(1, particles)"
   ]
  },
  {
   "cell_type": "markdown",
   "metadata": {
    "id": "LeOasafdcAjl"
   },
   "source": [
    "Can you rewrite the evolve method to make it faster?"
   ]
  },
  {
   "cell_type": "code",
   "execution_count": 14,
   "metadata": {},
   "outputs": [],
   "source": [
    "%load_ext Cython"
   ]
  },
  {
   "cell_type": "markdown",
   "metadata": {},
   "source": [
    "## Improvement 1: static typing"
   ]
  },
  {
   "cell_type": "code",
   "execution_count": 62,
   "metadata": {},
   "outputs": [],
   "source": [
    "%%cython\n",
    "import numpy as np\n",
    "from libc.math cimport sqrt\n",
    "cdef evolve_c(double[:,:] r_i, double[:] ang_speed, int timestep, int nsteps):\n",
    "    v_i = np.empty_like(r_i)\n",
    "    cdef int i, j\n",
    "    cdef int nparticles = r_i.shape[0]\n",
    "    cdef double x, y, dx, dy, vx, vy, norm\n",
    "    for i in range(nsteps):\n",
    "        for j in range(nparticles):\n",
    "            x, y = r_i[j]\n",
    "            norm = sqrt(x**2 + y**2)\n",
    "            vx, vy = -1*y/norm, x/norm\n",
    "            dx, dy = timestep * ang_speed[j] * vx, timestep * ang_speed[j] * vy \n",
    "            r_i[j, 0] += dx\n",
    "            r_i[j, 1] += dy    \n",
    "            \n",
    "def evolve_wrapper_c(dt, particles):\n",
    "    timestep = 1\n",
    "    nsteps = int(dt/timestep)\n",
    "    r_i = np.array([[p.x, p.y] for p in particles])\n",
    "    ang_speed = np.array([p.ang_speed for p in particles])\n",
    "    evolve_c(r_i, ang_speed, timestep, nsteps)\n",
    "\n",
    "    for i, p in enumerate(particles):\n",
    "        p.x, p.y = r_i[i]"
   ]
  },
  {
   "cell_type": "markdown",
   "metadata": {},
   "source": [
    "## Improvement 1: static typing + compiler directive"
   ]
  },
  {
   "cell_type": "code",
   "execution_count": 63,
   "metadata": {},
   "outputs": [],
   "source": [
    "%%cython \n",
    "import numpy as np\n",
    "from libc.math cimport sqrt\n",
    "cimport cython\n",
    "\n",
    "@cython.boundscheck(False)\n",
    "cdef evolve_c1(double[:,:] r_i, double[:] ang_speed, int timestep, int nsteps):\n",
    "    v_i = np.empty_like(r_i)\n",
    "    cdef int i, j\n",
    "    cdef int nparticles = r_i.shape[0]\n",
    "    cdef double x, y, dx, dy, vx, vy, norm\n",
    "    for i in range(nsteps):\n",
    "        for j in range(nparticles):\n",
    "            x, y = r_i[j, 0], r_i[j, 1]\n",
    "            norm = sqrt(x**2 + y**2)\n",
    "            with cython.cdivision(True):\n",
    "                vx, vy = -1*y/norm, x/norm\n",
    "            dx, dy = timestep * ang_speed[j] * vx, timestep * ang_speed[j] * vy \n",
    "            r_i[j, 0] += dx\n",
    "            r_i[j, 1] += dy    \n",
    "            \n",
    "def evolve_wrapper_c1(dt, particles):\n",
    "    timestep = 1\n",
    "    nsteps = int(dt/timestep)\n",
    "    r_i = np.array([[p.x, p.y] for p in particles])\n",
    "    ang_speed = np.array([p.ang_speed for p in particles])\n",
    "    evolve_c1(r_i, ang_speed, timestep, nsteps)\n",
    "\n",
    "    for i, p in enumerate(particles):\n",
    "        p.x, p.y = r_i[i]"
   ]
  },
  {
   "cell_type": "markdown",
   "metadata": {},
   "source": [
    "## Result"
   ]
  },
  {
   "cell_type": "code",
   "execution_count": 64,
   "metadata": {},
   "outputs": [
    {
     "name": "stdout",
     "output_type": "stream",
     "text": [
      "16.1 ms ± 458 µs per loop (mean ± std. dev. of 7 runs, 10 loops each)\n",
      "216 µs ± 5.51 µs per loop (mean ± std. dev. of 7 runs, 10 loops each)\n",
      "125 µs ± 8.7 µs per loop (mean ± std. dev. of 7 runs, 10 loops each)\n"
     ]
    }
   ],
   "source": [
    "%timeit -n 10 evolve_wrapper(1, particles)\n",
    "%timeit -n 10 evolve_wrapper_c(1, particles)\n",
    "%timeit -n 10 evolve_wrapper_c1(1, particles)\n"
   ]
  },
  {
   "cell_type": "code",
   "execution_count": null,
   "metadata": {},
   "outputs": [],
   "source": []
  }
 ],
 "metadata": {
  "colab": {
   "authorship_tag": "ABX9TyNLj6PSrVzBIhWRs7E568EY",
   "collapsed_sections": [],
   "name": "Cython + Numba Exercise.ipynb",
   "provenance": []
  },
  "kernelspec": {
   "display_name": "Python 3",
   "language": "python",
   "name": "python3"
  },
  "language_info": {
   "codemirror_mode": {
    "name": "ipython",
    "version": 3
   },
   "file_extension": ".py",
   "mimetype": "text/x-python",
   "name": "python",
   "nbconvert_exporter": "python",
   "pygments_lexer": "ipython3",
   "version": "3.8.8"
  }
 },
 "nbformat": 4,
 "nbformat_minor": 1
}
