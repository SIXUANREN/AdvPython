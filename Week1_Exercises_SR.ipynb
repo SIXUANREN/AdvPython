{
 "cells": [
  {
   "cell_type": "markdown",
   "metadata": {
    "id": "W9WNVv9iUm0X"
   },
   "source": [
    "## Numpy"
   ]
  },
  {
   "cell_type": "code",
   "execution_count": 1,
   "metadata": {
    "id": "sxi83B8qUpv5"
   },
   "outputs": [],
   "source": [
    "import numpy as np"
   ]
  },
  {
   "cell_type": "markdown",
   "metadata": {
    "id": "YwyT3EQxVCgm"
   },
   "source": [
    "1. Create an `ndarray` of shape (3,5). All values of the array are 100."
   ]
  },
  {
   "cell_type": "code",
   "execution_count": 4,
   "metadata": {
    "id": "bdsABaxNUqVr"
   },
   "outputs": [
    {
     "data": {
      "text/plain": [
       "array([[100, 100, 100, 100, 100],\n",
       "       [100, 100, 100, 100, 100],\n",
       "       [100, 100, 100, 100, 100]])"
      ]
     },
     "execution_count": 4,
     "metadata": {},
     "output_type": "execute_result"
    }
   ],
   "source": [
    "x = np.full((3,5), 100)\n",
    "x"
   ]
  },
  {
   "cell_type": "markdown",
   "metadata": {
    "id": "iYTCppLJVU3O"
   },
   "source": [
    "2. Create a border of zeros that surround the result in Question 1, so that the output is of shape (5,7), the outside values are 0 and the inside values are 100. "
   ]
  },
  {
   "cell_type": "code",
   "execution_count": 7,
   "metadata": {
    "id": "zYVIlzrrUqYY"
   },
   "outputs": [
    {
     "data": {
      "text/plain": [
       "array([[  0.,   0.,   0.,   0.,   0.,   0.,   0.],\n",
       "       [  0., 100., 100., 100., 100., 100.,   0.],\n",
       "       [  0., 100., 100., 100., 100., 100.,   0.],\n",
       "       [  0., 100., 100., 100., 100., 100.,   0.],\n",
       "       [  0.,   0.,   0.,   0.,   0.,   0.,   0.]])"
      ]
     },
     "execution_count": 7,
     "metadata": {},
     "output_type": "execute_result"
    }
   ],
   "source": [
    "np.r_[np.zeros(7)[None, :], np.c_[np.zeros(3), x, np.zeros(3)], np.zeros(7)[None, :]]"
   ]
  },
  {
   "cell_type": "markdown",
   "metadata": {
    "id": "YDJndwA2V1Af"
   },
   "source": [
    "3. Create a 5x5 matrix with values 1,2,3,4 just below the diagonal.\n"
   ]
  },
  {
   "cell_type": "code",
   "execution_count": 11,
   "metadata": {
    "id": "MGK4UJutUqd3"
   },
   "outputs": [
    {
     "data": {
      "text/plain": [
       "array([[nan, nan, nan, nan, nan],\n",
       "       [ 1., nan, nan, nan, nan],\n",
       "       [nan,  2., nan, nan, nan],\n",
       "       [nan, nan,  3., nan, nan],\n",
       "       [nan, nan, nan,  4., nan]])"
      ]
     },
     "execution_count": 11,
     "metadata": {},
     "output_type": "execute_result"
    }
   ],
   "source": [
    "y = np.full((5,5), np.nan)\n",
    "for i in range(1, 5):\n",
    "    y[i, i-1] = i\n",
    "y"
   ]
  },
  {
   "cell_type": "markdown",
   "metadata": {
    "id": "NYrOwCPzWMeD"
   },
   "source": [
    "4. Create a checkerboard 8x8 matrix using the tile function"
   ]
  },
  {
   "cell_type": "code",
   "execution_count": 13,
   "metadata": {
    "id": "3pEOA810WL07"
   },
   "outputs": [
    {
     "data": {
      "text/plain": [
       "array([[0, 1, 0, 1, 0, 1, 0, 1],\n",
       "       [1, 0, 1, 0, 1, 0, 1, 0],\n",
       "       [0, 1, 0, 1, 0, 1, 0, 1],\n",
       "       [1, 0, 1, 0, 1, 0, 1, 0],\n",
       "       [0, 1, 0, 1, 0, 1, 0, 1],\n",
       "       [1, 0, 1, 0, 1, 0, 1, 0],\n",
       "       [0, 1, 0, 1, 0, 1, 0, 1],\n",
       "       [1, 0, 1, 0, 1, 0, 1, 0]])"
      ]
     },
     "execution_count": 13,
     "metadata": {},
     "output_type": "execute_result"
    }
   ],
   "source": [
    "np.tile(np.array([[0,1],[1,0]]), [4,4])"
   ]
  },
  {
   "cell_type": "markdown",
   "metadata": {
    "id": "1HNTk70SWHjV"
   },
   "source": [
    "5. Sort a 2d-array by the nth column"
   ]
  },
  {
   "cell_type": "code",
   "execution_count": 25,
   "metadata": {
    "id": "9cxSyDIkUqgi"
   },
   "outputs": [
    {
     "data": {
      "text/plain": [
       "array([[-0.91751631,  0.72190701,  0.86097107, -0.42763368],\n",
       "       [ 1.11420173,  0.3604468 ,  0.58159724,  0.078948  ],\n",
       "       [-0.67250232, -0.13715218, -0.38528353,  0.55603961],\n",
       "       [ 0.74827186,  0.17953217,  0.40380985,  0.60538424],\n",
       "       [-0.55802345, -1.37311397,  0.06605564,  0.79463854]])"
      ]
     },
     "execution_count": 25,
     "metadata": {},
     "output_type": "execute_result"
    }
   ],
   "source": [
    "z = np.random.randn(20).reshape(5,4)\n",
    "n = 3\n",
    "z[z[:,n].argsort()]"
   ]
  },
  {
   "cell_type": "markdown",
   "metadata": {
    "id": "z__MABZ1W19Z"
   },
   "source": [
    "6. Compute a matrix rank"
   ]
  },
  {
   "cell_type": "code",
   "execution_count": 29,
   "metadata": {
    "id": "EKcIavS4UqjG"
   },
   "outputs": [
    {
     "data": {
      "text/plain": [
       "4"
      ]
     },
     "execution_count": 29,
     "metadata": {},
     "output_type": "execute_result"
    }
   ],
   "source": [
    "np.linalg.matrix_rank(z)"
   ]
  },
  {
   "cell_type": "code",
   "execution_count": 31,
   "metadata": {},
   "outputs": [
    {
     "data": {
      "text/plain": [
       "1"
      ]
     },
     "execution_count": 31,
     "metadata": {},
     "output_type": "execute_result"
    }
   ],
   "source": [
    "np.linalg.matrix_rank(x)"
   ]
  },
  {
   "cell_type": "markdown",
   "metadata": {
    "id": "Edizw3vbXOC6"
   },
   "source": [
    "7. Consider an array of dimension (5,5,3), how to mulitply it by an array with dimensions (5,5)?"
   ]
  },
  {
   "cell_type": "code",
   "execution_count": 35,
   "metadata": {
    "id": "JITZPgiyXhHJ"
   },
   "outputs": [
    {
     "data": {
      "text/plain": [
       "array([[[-3.36095587e-01,  1.62436409e-01, -2.97358116e-03],\n",
       "        [ 1.10379012e-01, -3.15315005e-01,  8.70597313e-01],\n",
       "        [ 5.15448335e-01, -1.06115540e-01,  1.52423201e+00],\n",
       "        [ 9.52454938e-02, -5.19282702e-01,  5.53052164e-01],\n",
       "        [-2.42057035e-02, -1.13835079e-01, -1.79375194e-03]],\n",
       "\n",
       "       [[ 2.93445028e-01, -9.87423181e-01,  7.73969939e-01],\n",
       "        [ 2.16316726e-01, -6.36525981e-02,  1.22258309e-01],\n",
       "        [-3.73934985e-01, -1.67599643e+00,  9.70565602e-01],\n",
       "        [ 5.95419389e-01, -3.42641315e-01,  3.37541706e-01],\n",
       "        [-1.49350184e+00, -2.49143860e+00,  4.80635642e-01]],\n",
       "\n",
       "       [[ 5.51578683e-01, -8.79744769e-02,  1.08897887e-01],\n",
       "        [ 7.05310458e-01,  1.08934480e+00, -1.77489047e-01],\n",
       "        [-1.83363726e-01, -9.49325086e-01,  5.65468754e-01],\n",
       "        [-3.00892316e-01, -9.05857349e-03,  2.43761894e+00],\n",
       "        [-4.83198892e-01,  4.54049974e-01, -4.99007430e-01]],\n",
       "\n",
       "       [[ 3.16514130e-01,  2.71409098e-01, -3.51167916e-01],\n",
       "        [ 2.37201173e-01, -3.35887012e-01, -2.42476009e-02],\n",
       "        [ 1.13374829e-01, -1.17542601e+00, -3.17281160e-01],\n",
       "        [ 2.53911345e+00, -2.13246649e+00, -1.52489758e+00],\n",
       "        [-2.93492838e-01, -1.60978933e-01, -6.44063896e-01]],\n",
       "\n",
       "       [[ 6.16707718e-01, -5.53307546e-01, -1.66869111e-01],\n",
       "        [-3.45737166e+00,  3.11762507e-01,  1.06418946e+00],\n",
       "        [-1.06899419e-01, -1.91427915e-01, -4.67010765e-04],\n",
       "        [ 7.38325187e-01, -2.44237296e+00, -2.19221725e+00],\n",
       "        [ 8.14151815e-01,  1.34497531e+00,  7.17344352e-01]]])"
      ]
     },
     "execution_count": 35,
     "metadata": {},
     "output_type": "execute_result"
    }
   ],
   "source": [
    "# method 1:\n",
    "np.random.randn(5*5*3).reshape(5,5,3) * np.random.randn(5*5).reshape(5,5)[:,:,None]"
   ]
  },
  {
   "cell_type": "code",
   "execution_count": 36,
   "metadata": {},
   "outputs": [
    {
     "data": {
      "text/plain": [
       "array([[[ 4.93750012e-01,  1.32883794e-01,  1.09912005e-01],\n",
       "        [ 6.63034019e-01,  7.31851931e-01,  5.18748739e-01],\n",
       "        [-2.37477527e-01, -4.54486148e-01, -1.17968071e+00],\n",
       "        [-1.04121898e-01, -3.90686396e-01, -3.86339408e-01],\n",
       "        [-4.12534270e-01, -1.28855566e-01, -4.99356932e-01]],\n",
       "\n",
       "       [[ 8.85568406e-03,  1.95609570e-02, -1.79448470e-02],\n",
       "        [ 1.05975806e+00,  6.87137221e-02, -7.48605724e-01],\n",
       "        [-6.96587148e-01,  1.03262873e+00,  6.43596305e-01],\n",
       "        [-1.01706777e+00, -5.17384131e-01,  4.13051668e-01],\n",
       "        [ 7.05448007e-02,  4.45989885e-03,  2.90873001e-02]],\n",
       "\n",
       "       [[-1.81836864e+00, -1.10140653e+00,  1.12383999e+00],\n",
       "        [-4.93540324e-01,  1.38523910e-01,  1.20984461e-01],\n",
       "        [ 3.67337077e+00, -5.84378636e-01,  1.12903761e+00],\n",
       "        [ 2.43014115e-04, -3.83481963e-02, -2.18214702e-02],\n",
       "        [-8.63719054e-02,  1.73235115e-02, -7.67140964e-02]],\n",
       "\n",
       "       [[ 3.96256538e-01,  5.33636825e-01,  3.77145326e-02],\n",
       "        [-2.84949813e-02, -1.74145357e+00,  6.83311877e-01],\n",
       "        [-6.95283184e-01, -5.48168501e-02,  3.80490236e-01],\n",
       "        [ 5.36291663e-02, -6.17060565e-02, -1.51202844e-01],\n",
       "        [ 2.75534848e-02, -8.66041030e-01,  1.27798854e-01]],\n",
       "\n",
       "       [[-1.43648570e-01, -2.07443671e-03, -6.49188596e-01],\n",
       "        [-1.39411750e-01, -1.70481316e-01, -1.81540980e-01],\n",
       "        [-3.29533547e-01, -7.60744363e-01,  1.18103152e-01],\n",
       "        [ 1.07580461e+00,  1.15140498e+00,  1.51197916e+00],\n",
       "        [ 1.86609898e-01, -4.79406262e-02, -2.61470151e-01]]])"
      ]
     },
     "execution_count": 36,
     "metadata": {},
     "output_type": "execute_result"
    }
   ],
   "source": [
    "# method 2:\n",
    "np.random.randn(5*5*3).reshape(5,5,3) * np.random.randn(5*5).reshape(5,5)[:,:,np.newaxis]"
   ]
  },
  {
   "cell_type": "code",
   "execution_count": 37,
   "metadata": {},
   "outputs": [
    {
     "data": {
      "text/plain": [
       "array([[[ 1.39227090e+00, -9.24131331e-01, -8.78108157e-01],\n",
       "        [ 8.31171197e-03,  1.05308327e-02, -6.21971792e-02],\n",
       "        [-1.86837137e+00,  4.15898419e-01,  2.06498671e-01],\n",
       "        [-8.58976468e-01,  3.45563526e-01, -5.77909647e-01],\n",
       "        [-8.31387038e-02, -4.38560868e-02, -4.97209538e-02]],\n",
       "\n",
       "       [[ 2.82273851e-01, -5.83656122e-01, -1.09592484e+00],\n",
       "        [ 2.08755821e+00,  9.61627738e-01, -2.29530000e+00],\n",
       "        [ 1.34440970e+00,  1.41082956e-01,  3.71984355e-01],\n",
       "        [-8.67967161e-01, -2.20097375e-01, -3.19293019e-01],\n",
       "        [ 2.06353704e+00, -2.35184918e+00,  1.65483269e+00]],\n",
       "\n",
       "       [[-2.55521368e+00, -1.08832133e+00, -5.75946263e-01],\n",
       "        [-9.84538065e-01,  5.53415629e-01,  1.79566901e-01],\n",
       "        [ 4.55136569e-01, -6.44180077e-01,  1.68690085e+00],\n",
       "        [ 2.40326528e-01,  2.22817281e+00, -7.79906777e-02],\n",
       "        [-5.23792653e-01, -5.94926450e-01,  4.43892249e-01]],\n",
       "\n",
       "       [[-2.52280183e+00,  2.48759066e-01, -3.60227038e+00],\n",
       "        [ 1.51249644e-01,  1.02137885e-01, -2.89867233e-01],\n",
       "        [ 8.62829612e-03,  7.47888651e-03, -1.70259205e-04],\n",
       "        [-4.45022736e-02,  6.58747206e-03, -1.09417476e-01],\n",
       "        [ 9.94268092e-01, -8.39822313e-01, -7.64256673e-01]],\n",
       "\n",
       "       [[ 1.54375261e+00,  1.33492387e-01, -1.12589481e+00],\n",
       "        [-1.06590758e-01, -6.97151679e-02, -1.64312748e-01],\n",
       "        [ 9.43300898e-01, -7.29547818e-01,  1.01376542e+00],\n",
       "        [-1.40477979e+00,  4.70148821e-01,  6.55194453e-01],\n",
       "        [ 1.24700934e-02,  3.64612461e-02,  4.87978153e-02]]])"
      ]
     },
     "execution_count": 37,
     "metadata": {},
     "output_type": "execute_result"
    }
   ],
   "source": [
    "# method 3:\n",
    "np.random.randn(5*5*3).reshape(5,5,3) * np.random.randn(5*5).reshape(5,5).reshape(5,5,-1)"
   ]
  },
  {
   "cell_type": "markdown",
   "metadata": {
    "id": "toN4wwRfXhka"
   },
   "source": [
    "8. Consider a 16x16 array, how to get the block-sum (block size is 4x4)?"
   ]
  },
  {
   "cell_type": "code",
   "execution_count": 51,
   "metadata": {
    "id": "ZxEeQA4DXh5W"
   },
   "outputs": [
    {
     "data": {
      "text/plain": [
       "array([[  0,   1,   2,   3,   4,   5,   6,   7,   8,   9,  10,  11,  12,\n",
       "         13,  14,  15],\n",
       "       [ 16,  17,  18,  19,  20,  21,  22,  23,  24,  25,  26,  27,  28,\n",
       "         29,  30,  31],\n",
       "       [ 32,  33,  34,  35,  36,  37,  38,  39,  40,  41,  42,  43,  44,\n",
       "         45,  46,  47],\n",
       "       [ 48,  49,  50,  51,  52,  53,  54,  55,  56,  57,  58,  59,  60,\n",
       "         61,  62,  63],\n",
       "       [ 64,  65,  66,  67,  68,  69,  70,  71,  72,  73,  74,  75,  76,\n",
       "         77,  78,  79],\n",
       "       [ 80,  81,  82,  83,  84,  85,  86,  87,  88,  89,  90,  91,  92,\n",
       "         93,  94,  95],\n",
       "       [ 96,  97,  98,  99, 100, 101, 102, 103, 104, 105, 106, 107, 108,\n",
       "        109, 110, 111],\n",
       "       [112, 113, 114, 115, 116, 117, 118, 119, 120, 121, 122, 123, 124,\n",
       "        125, 126, 127],\n",
       "       [128, 129, 130, 131, 132, 133, 134, 135, 136, 137, 138, 139, 140,\n",
       "        141, 142, 143],\n",
       "       [144, 145, 146, 147, 148, 149, 150, 151, 152, 153, 154, 155, 156,\n",
       "        157, 158, 159],\n",
       "       [160, 161, 162, 163, 164, 165, 166, 167, 168, 169, 170, 171, 172,\n",
       "        173, 174, 175],\n",
       "       [176, 177, 178, 179, 180, 181, 182, 183, 184, 185, 186, 187, 188,\n",
       "        189, 190, 191],\n",
       "       [192, 193, 194, 195, 196, 197, 198, 199, 200, 201, 202, 203, 204,\n",
       "        205, 206, 207],\n",
       "       [208, 209, 210, 211, 212, 213, 214, 215, 216, 217, 218, 219, 220,\n",
       "        221, 222, 223],\n",
       "       [224, 225, 226, 227, 228, 229, 230, 231, 232, 233, 234, 235, 236,\n",
       "        237, 238, 239],\n",
       "       [240, 241, 242, 243, 244, 245, 246, 247, 248, 249, 250, 251, 252,\n",
       "        253, 254, 255]])"
      ]
     },
     "execution_count": 51,
     "metadata": {},
     "output_type": "execute_result"
    }
   ],
   "source": [
    "xx = np.arange(256).reshape(16,16)\n",
    "xx"
   ]
  },
  {
   "cell_type": "code",
   "execution_count": 66,
   "metadata": {},
   "outputs": [
    {
     "data": {
      "text/plain": [
       "array([[ 408,  472,  536,  600],\n",
       "       [1432, 1496, 1560, 1624],\n",
       "       [2456, 2520, 2584, 2648],\n",
       "       [3480, 3544, 3608, 3672]])"
      ]
     },
     "execution_count": 66,
     "metadata": {},
     "output_type": "execute_result"
    }
   ],
   "source": [
    "# method 1: use reshape\n",
    "xx.reshape(16, 4, 4).sum(axis=-1).reshape(4, 4, 4).sum(axis=-2)"
   ]
  },
  {
   "cell_type": "code",
   "execution_count": 120,
   "metadata": {},
   "outputs": [
    {
     "data": {
      "text/plain": [
       "array([[ 408,  472,  536,  600],\n",
       "       [1432, 1496, 1560, 1624],\n",
       "       [2456, 2520, 2584, 2648],\n",
       "       [3480, 3544, 3608, 3672]])"
      ]
     },
     "execution_count": 120,
     "metadata": {},
     "output_type": "execute_result"
    }
   ],
   "source": [
    "# method 2: use reduceat\n",
    "np.add.reduceat(\n",
    "    np.add.reduceat(xx, np.arange(0,16,4), axis=1),\n",
    "    np.arange(0,16,4))"
   ]
  },
  {
   "cell_type": "markdown",
   "metadata": {
    "id": "L15y9mOiXirL"
   },
   "source": [
    "9. Get the n largest values of an array"
   ]
  },
  {
   "cell_type": "code",
   "execution_count": 176,
   "metadata": {
    "id": "2PQX2EnnUqlr"
   },
   "outputs": [],
   "source": [
    "def game_of_life(arr):\n",
    "    # deal with the boundary cells:\n",
    "    # consider the left and right edges of the field to be stitched together, and the top and bottom edges also, yielding a toroidal array\n",
    "    # left cell\n",
    "    left = np.c_[arr[:, -1:], arr[:, :-1]]\n",
    "    # right cell\n",
    "    right = np.c_[arr[:, 1:], arr[:, 0:1]]\n",
    "    # upper cell\n",
    "    upper = np.r_[arr[-1:, :], arr[:-1, :]]\n",
    "    # lower cell\n",
    "    lower = np.r_[arr[1:, :], arr[0:1, :]]\n",
    "    # upper-left cell\n",
    "    upperleft = np.r_[np.c_[arr[-1,-1], arr[-1:, :-1]], np.c_[arr[:-1, -1:], arr[:-1, :-1]]]\n",
    "    # upper-right cell\n",
    "    upperright = np.r_[np.c_[arr[-1:, 1:], arr[-1,0]], np.c_[ arr[:-1, 1:], arr[:-1, :1],]]\n",
    "    # lower-right cell\n",
    "    lowerright = np.r_[np.c_[arr[1:, 1:], arr[1:, :1]], np.c_[arr[:1, 1:], arr[0,0]]]\n",
    "    # lower-left cell\n",
    "    lowerleft = np.r_[np.c_[arr[1:, -1:], arr[1:, :-1]], np.c_[arr[0,-1], arr[:1, :-1]]]\n",
    "    sums = left+right+upper+lower+upperleft+upperright+lowerright+lowerleft\n",
    "    # conditions\n",
    "    #     Any live cell with two or three live neighbours survives.\n",
    "    #     Any dead cell with three live neighbours becomes a live cell.\n",
    "    #     All other live cells die in the next generation. Similarly, all other dead cells stay dead.\n",
    "    res = np.where(((sums == 3) & (arr == 0)) | (((sums == 2) | (sums == 3)) & (arr == 1)), 1, 0)\n",
    "    return res"
   ]
  },
  {
   "cell_type": "code",
   "execution_count": 179,
   "metadata": {},
   "outputs": [
    {
     "data": {
      "text/plain": [
       "True"
      ]
     },
     "execution_count": 179,
     "metadata": {},
     "output_type": "execute_result"
    }
   ],
   "source": [
    "# Test cases\n",
    "# 1. Still - Block\n",
    "arr0 = np.array([[0,0,0,0],\n",
    "                 [0,1,1,0],\n",
    "                 [0,1,1,0],\n",
    "                 [0,0,0,0]])\n",
    "np.allclose(game_of_life(arr0), arr0)"
   ]
  },
  {
   "cell_type": "code",
   "execution_count": null,
   "metadata": {},
   "outputs": [],
   "source": [
    "# 2. Still - Tub\n",
    "arr1 = np.array([[0,0,0,0,0],\n",
    "                 [0,0,1,0,0],\n",
    "                 [0,1,0,1,0],\n",
    "                 [0,0,1,0,0],\n",
    "                 [0,0,0,0,0]])\n",
    "np.allclose(game_of_life(arr1), arr1)"
   ]
  },
  {
   "cell_type": "code",
   "execution_count": 183,
   "metadata": {},
   "outputs": [
    {
     "data": {
      "text/plain": [
       "(True, True)"
      ]
     },
     "execution_count": 183,
     "metadata": {},
     "output_type": "execute_result"
    }
   ],
   "source": [
    "# 3. Oscillators - Blinker\n",
    "arr21 = np.array([[0,0,0,0,0],\n",
    "                 [0,0,1,0,0],\n",
    "                 [0,0,1,0,0],\n",
    "                 [0,0,1,0,0],\n",
    "                 [0,0,0,0,0]])\n",
    "arr22 = np.array([[0,0,0,0,0],\n",
    "                 [0,0,0,0,0],\n",
    "                 [0,1,1,1,0],\n",
    "                 [0,0,0,0,0],\n",
    "                 [0,0,0,0,0]])\n",
    "\n",
    "np.allclose(game_of_life(arr21), arr22), np.allclose(game_of_life(arr22), arr21)"
   ]
  },
  {
   "cell_type": "code",
   "execution_count": 184,
   "metadata": {},
   "outputs": [
    {
     "data": {
      "text/plain": [
       "(True, True)"
      ]
     },
     "execution_count": 184,
     "metadata": {},
     "output_type": "execute_result"
    }
   ],
   "source": [
    "# 4. Oscillators - Beacon\n",
    "arr31 = np.array([[0,0,0,0,0,0],\n",
    "                  [0,1,1,0,0,0],\n",
    "                  [0,1,1,0,0,0],\n",
    "                  [0,0,0,1,1,0],\n",
    "                  [0,0,0,1,1,0],\n",
    "                  [0,0,0,0,0,0]])\n",
    "arr32 = np.array([[0,0,0,0,0,0],\n",
    "                  [0,1,1,0,0,0],\n",
    "                  [0,1,0,0,0,0],\n",
    "                  [0,0,0,0,1,0],\n",
    "                  [0,0,0,1,1,0],\n",
    "                  [0,0,0,0,0,0]])\n",
    "\n",
    "np.allclose(game_of_life(arr31), arr32), np.allclose(game_of_life(arr32), arr31)"
   ]
  },
  {
   "cell_type": "markdown",
   "metadata": {
    "id": "JjTspHcYYy1r"
   },
   "source": [
    "Check https://github.com/rougier/numpy-100/blob/master/100_Numpy_exercises.ipynb for more Numpy exercises."
   ]
  },
  {
   "cell_type": "markdown",
   "metadata": {
    "id": "duxYLMSbUrIy"
   },
   "source": [
    "## Pandas"
   ]
  },
  {
   "cell_type": "code",
   "execution_count": 79,
   "metadata": {
    "id": "X3JdMd73UsfF"
   },
   "outputs": [],
   "source": [
    "import pandas as pd\n",
    "import seaborn as sb"
   ]
  },
  {
   "cell_type": "markdown",
   "metadata": {
    "id": "gTqmqHeXYpA9"
   },
   "source": [
    "1. Using NumPy, create a Pandas DataFrame with five rows and three columns"
   ]
  },
  {
   "cell_type": "code",
   "execution_count": 80,
   "metadata": {
    "id": "5VtgfgDSUtDq"
   },
   "outputs": [
    {
     "data": {
      "text/html": [
       "<div>\n",
       "<style scoped>\n",
       "    .dataframe tbody tr th:only-of-type {\n",
       "        vertical-align: middle;\n",
       "    }\n",
       "\n",
       "    .dataframe tbody tr th {\n",
       "        vertical-align: top;\n",
       "    }\n",
       "\n",
       "    .dataframe thead th {\n",
       "        text-align: right;\n",
       "    }\n",
       "</style>\n",
       "<table border=\"1\" class=\"dataframe\">\n",
       "  <thead>\n",
       "    <tr style=\"text-align: right;\">\n",
       "      <th></th>\n",
       "      <th>0</th>\n",
       "      <th>1</th>\n",
       "      <th>2</th>\n",
       "    </tr>\n",
       "  </thead>\n",
       "  <tbody>\n",
       "    <tr>\n",
       "      <th>0</th>\n",
       "      <td>0</td>\n",
       "      <td>1</td>\n",
       "      <td>2</td>\n",
       "    </tr>\n",
       "    <tr>\n",
       "      <th>1</th>\n",
       "      <td>3</td>\n",
       "      <td>4</td>\n",
       "      <td>5</td>\n",
       "    </tr>\n",
       "    <tr>\n",
       "      <th>2</th>\n",
       "      <td>6</td>\n",
       "      <td>7</td>\n",
       "      <td>8</td>\n",
       "    </tr>\n",
       "    <tr>\n",
       "      <th>3</th>\n",
       "      <td>9</td>\n",
       "      <td>10</td>\n",
       "      <td>11</td>\n",
       "    </tr>\n",
       "    <tr>\n",
       "      <th>4</th>\n",
       "      <td>12</td>\n",
       "      <td>13</td>\n",
       "      <td>14</td>\n",
       "    </tr>\n",
       "  </tbody>\n",
       "</table>\n",
       "</div>"
      ],
      "text/plain": [
       "    0   1   2\n",
       "0   0   1   2\n",
       "1   3   4   5\n",
       "2   6   7   8\n",
       "3   9  10  11\n",
       "4  12  13  14"
      ]
     },
     "execution_count": 80,
     "metadata": {},
     "output_type": "execute_result"
    }
   ],
   "source": [
    "pd.DataFrame(np.arange(15).reshape(5,3))"
   ]
  },
  {
   "cell_type": "markdown",
   "metadata": {
    "id": "9qC1OJHFYryX"
   },
   "source": [
    "The following six questions depend on the penguins dataset."
   ]
  },
  {
   "cell_type": "code",
   "execution_count": 81,
   "metadata": {
    "id": "iz_sYU_7UtGZ"
   },
   "outputs": [],
   "source": [
    "df_penguins = sb.load_dataset('penguins')"
   ]
  },
  {
   "cell_type": "code",
   "execution_count": 84,
   "metadata": {},
   "outputs": [
    {
     "data": {
      "text/html": [
       "<div>\n",
       "<style scoped>\n",
       "    .dataframe tbody tr th:only-of-type {\n",
       "        vertical-align: middle;\n",
       "    }\n",
       "\n",
       "    .dataframe tbody tr th {\n",
       "        vertical-align: top;\n",
       "    }\n",
       "\n",
       "    .dataframe thead th {\n",
       "        text-align: right;\n",
       "    }\n",
       "</style>\n",
       "<table border=\"1\" class=\"dataframe\">\n",
       "  <thead>\n",
       "    <tr style=\"text-align: right;\">\n",
       "      <th></th>\n",
       "      <th>species</th>\n",
       "      <th>island</th>\n",
       "      <th>bill_length_mm</th>\n",
       "      <th>bill_depth_mm</th>\n",
       "      <th>flipper_length_mm</th>\n",
       "      <th>body_mass_g</th>\n",
       "      <th>sex</th>\n",
       "    </tr>\n",
       "  </thead>\n",
       "  <tbody>\n",
       "    <tr>\n",
       "      <th>0</th>\n",
       "      <td>Adelie</td>\n",
       "      <td>Torgersen</td>\n",
       "      <td>39.1</td>\n",
       "      <td>18.7</td>\n",
       "      <td>181.0</td>\n",
       "      <td>3750.0</td>\n",
       "      <td>Male</td>\n",
       "    </tr>\n",
       "    <tr>\n",
       "      <th>1</th>\n",
       "      <td>Adelie</td>\n",
       "      <td>Torgersen</td>\n",
       "      <td>39.5</td>\n",
       "      <td>17.4</td>\n",
       "      <td>186.0</td>\n",
       "      <td>3800.0</td>\n",
       "      <td>Female</td>\n",
       "    </tr>\n",
       "    <tr>\n",
       "      <th>2</th>\n",
       "      <td>Adelie</td>\n",
       "      <td>Torgersen</td>\n",
       "      <td>40.3</td>\n",
       "      <td>18.0</td>\n",
       "      <td>195.0</td>\n",
       "      <td>3250.0</td>\n",
       "      <td>Female</td>\n",
       "    </tr>\n",
       "    <tr>\n",
       "      <th>3</th>\n",
       "      <td>Adelie</td>\n",
       "      <td>Torgersen</td>\n",
       "      <td>NaN</td>\n",
       "      <td>NaN</td>\n",
       "      <td>NaN</td>\n",
       "      <td>NaN</td>\n",
       "      <td>NaN</td>\n",
       "    </tr>\n",
       "    <tr>\n",
       "      <th>4</th>\n",
       "      <td>Adelie</td>\n",
       "      <td>Torgersen</td>\n",
       "      <td>36.7</td>\n",
       "      <td>19.3</td>\n",
       "      <td>193.0</td>\n",
       "      <td>3450.0</td>\n",
       "      <td>Female</td>\n",
       "    </tr>\n",
       "  </tbody>\n",
       "</table>\n",
       "</div>"
      ],
      "text/plain": [
       "  species     island  bill_length_mm  bill_depth_mm  flipper_length_mm  \\\n",
       "0  Adelie  Torgersen            39.1           18.7              181.0   \n",
       "1  Adelie  Torgersen            39.5           17.4              186.0   \n",
       "2  Adelie  Torgersen            40.3           18.0              195.0   \n",
       "3  Adelie  Torgersen             NaN            NaN                NaN   \n",
       "4  Adelie  Torgersen            36.7           19.3              193.0   \n",
       "\n",
       "   body_mass_g     sex  \n",
       "0       3750.0    Male  \n",
       "1       3800.0  Female  \n",
       "2       3250.0  Female  \n",
       "3          NaN     NaN  \n",
       "4       3450.0  Female  "
      ]
     },
     "execution_count": 84,
     "metadata": {},
     "output_type": "execute_result"
    }
   ],
   "source": [
    "df_penguins.head()"
   ]
  },
  {
   "cell_type": "code",
   "execution_count": 83,
   "metadata": {},
   "outputs": [
    {
     "name": "stdout",
     "output_type": "stream",
     "text": [
      "<class 'pandas.core.frame.DataFrame'>\n",
      "RangeIndex: 344 entries, 0 to 343\n",
      "Data columns (total 7 columns):\n",
      " #   Column             Non-Null Count  Dtype  \n",
      "---  ------             --------------  -----  \n",
      " 0   species            344 non-null    object \n",
      " 1   island             344 non-null    object \n",
      " 2   bill_length_mm     342 non-null    float64\n",
      " 3   bill_depth_mm      342 non-null    float64\n",
      " 4   flipper_length_mm  342 non-null    float64\n",
      " 5   body_mass_g        342 non-null    float64\n",
      " 6   sex                333 non-null    object \n",
      "dtypes: float64(4), object(3)\n",
      "memory usage: 18.9+ KB\n"
     ]
    }
   ],
   "source": [
    "df_penguins.info()"
   ]
  },
  {
   "cell_type": "markdown",
   "metadata": {
    "id": "zewpETumaw2B"
   },
   "source": [
    "2. What function can we use to drop the rows that have missing data?"
   ]
  },
  {
   "cell_type": "code",
   "execution_count": 93,
   "metadata": {
    "id": "GzqdIEsqayY9"
   },
   "outputs": [],
   "source": [
    "df_full = df_penguins.dropna(axis=0)"
   ]
  },
  {
   "cell_type": "markdown",
   "metadata": {
    "id": "H5-OiNdwazAl"
   },
   "source": [
    "3. By default, will the function in Question 2 modify df_penguins or will it return a copy?"
   ]
  },
  {
   "cell_type": "markdown",
   "metadata": {},
   "source": [
    "return a copy"
   ]
  },
  {
   "cell_type": "markdown",
   "metadata": {
    "id": "fGpQs-HxbE-4"
   },
   "source": [
    "4. Let df_full be the dataframe obtained from dropping rows with missing data. What is the average bill length of a penguin, in millimeters, in this (df_full) data set?"
   ]
  },
  {
   "cell_type": "code",
   "execution_count": 94,
   "metadata": {},
   "outputs": [
    {
     "data": {
      "text/plain": [
       "43.992792792792805"
      ]
     },
     "execution_count": 94,
     "metadata": {},
     "output_type": "execute_result"
    }
   ],
   "source": [
    "df_full.bill_length_mm.mean()"
   ]
  },
  {
   "cell_type": "markdown",
   "metadata": {
    "id": "8G2PTyWXZu3Q"
   },
   "source": [
    "5. Which species has the longest flippers?"
   ]
  },
  {
   "cell_type": "code",
   "execution_count": 96,
   "metadata": {
    "id": "3t2CXujeUtJO"
   },
   "outputs": [
    {
     "data": {
      "text/html": [
       "<div>\n",
       "<style scoped>\n",
       "    .dataframe tbody tr th:only-of-type {\n",
       "        vertical-align: middle;\n",
       "    }\n",
       "\n",
       "    .dataframe tbody tr th {\n",
       "        vertical-align: top;\n",
       "    }\n",
       "\n",
       "    .dataframe thead th {\n",
       "        text-align: right;\n",
       "    }\n",
       "</style>\n",
       "<table border=\"1\" class=\"dataframe\">\n",
       "  <thead>\n",
       "    <tr style=\"text-align: right;\">\n",
       "      <th></th>\n",
       "      <th>count</th>\n",
       "      <th>mean</th>\n",
       "      <th>std</th>\n",
       "      <th>min</th>\n",
       "      <th>25%</th>\n",
       "      <th>50%</th>\n",
       "      <th>75%</th>\n",
       "      <th>max</th>\n",
       "    </tr>\n",
       "    <tr>\n",
       "      <th>species</th>\n",
       "      <th></th>\n",
       "      <th></th>\n",
       "      <th></th>\n",
       "      <th></th>\n",
       "      <th></th>\n",
       "      <th></th>\n",
       "      <th></th>\n",
       "      <th></th>\n",
       "    </tr>\n",
       "  </thead>\n",
       "  <tbody>\n",
       "    <tr>\n",
       "      <th>Adelie</th>\n",
       "      <td>146.0</td>\n",
       "      <td>190.102740</td>\n",
       "      <td>6.521825</td>\n",
       "      <td>172.0</td>\n",
       "      <td>186.0</td>\n",
       "      <td>190.0</td>\n",
       "      <td>195.0</td>\n",
       "      <td>210.0</td>\n",
       "    </tr>\n",
       "    <tr>\n",
       "      <th>Chinstrap</th>\n",
       "      <td>68.0</td>\n",
       "      <td>195.823529</td>\n",
       "      <td>7.131894</td>\n",
       "      <td>178.0</td>\n",
       "      <td>191.0</td>\n",
       "      <td>196.0</td>\n",
       "      <td>201.0</td>\n",
       "      <td>212.0</td>\n",
       "    </tr>\n",
       "    <tr>\n",
       "      <th>Gentoo</th>\n",
       "      <td>119.0</td>\n",
       "      <td>217.235294</td>\n",
       "      <td>6.585431</td>\n",
       "      <td>203.0</td>\n",
       "      <td>212.0</td>\n",
       "      <td>216.0</td>\n",
       "      <td>221.5</td>\n",
       "      <td>231.0</td>\n",
       "    </tr>\n",
       "  </tbody>\n",
       "</table>\n",
       "</div>"
      ],
      "text/plain": [
       "           count        mean       std    min    25%    50%    75%    max\n",
       "species                                                                  \n",
       "Adelie     146.0  190.102740  6.521825  172.0  186.0  190.0  195.0  210.0\n",
       "Chinstrap   68.0  195.823529  7.131894  178.0  191.0  196.0  201.0  212.0\n",
       "Gentoo     119.0  217.235294  6.585431  203.0  212.0  216.0  221.5  231.0"
      ]
     },
     "execution_count": 96,
     "metadata": {},
     "output_type": "execute_result"
    }
   ],
   "source": [
    "df_full.groupby('species').flipper_length_mm.describe()"
   ]
  },
  {
   "cell_type": "markdown",
   "metadata": {},
   "source": [
    "Measured by group mean, max, min and median, Gentoo has the longest flippers."
   ]
  },
  {
   "cell_type": "markdown",
   "metadata": {
    "id": "1cIOry3KZwVt"
   },
   "source": [
    "6. Which two species have the most similar mean weight?"
   ]
  },
  {
   "cell_type": "code",
   "execution_count": 99,
   "metadata": {
    "id": "SxrsVLOjUtLy"
   },
   "outputs": [
    {
     "data": {
      "text/plain": [
       "species\n",
       "Adelie               NaN\n",
       "Chinstrap      26.923852\n",
       "Gentoo       1359.348739\n",
       "Name: body_mass_g, dtype: float64"
      ]
     },
     "execution_count": 99,
     "metadata": {},
     "output_type": "execute_result"
    }
   ],
   "source": [
    "df_full.groupby('species').body_mass_g.mean().diff()"
   ]
  },
  {
   "cell_type": "markdown",
   "metadata": {},
   "source": [
    "Chinstrap and Adelie have the most similar mean weight."
   ]
  },
  {
   "cell_type": "markdown",
   "metadata": {
    "id": "KwYXrDn8Z1Zs"
   },
   "source": [
    "7. How could you sort by species first, then by body mass?"
   ]
  },
  {
   "cell_type": "code",
   "execution_count": 100,
   "metadata": {
    "id": "rPfIrl1HdHWf"
   },
   "outputs": [
    {
     "data": {
      "text/html": [
       "<div>\n",
       "<style scoped>\n",
       "    .dataframe tbody tr th:only-of-type {\n",
       "        vertical-align: middle;\n",
       "    }\n",
       "\n",
       "    .dataframe tbody tr th {\n",
       "        vertical-align: top;\n",
       "    }\n",
       "\n",
       "    .dataframe thead th {\n",
       "        text-align: right;\n",
       "    }\n",
       "</style>\n",
       "<table border=\"1\" class=\"dataframe\">\n",
       "  <thead>\n",
       "    <tr style=\"text-align: right;\">\n",
       "      <th></th>\n",
       "      <th>species</th>\n",
       "      <th>island</th>\n",
       "      <th>bill_length_mm</th>\n",
       "      <th>bill_depth_mm</th>\n",
       "      <th>flipper_length_mm</th>\n",
       "      <th>body_mass_g</th>\n",
       "      <th>sex</th>\n",
       "    </tr>\n",
       "  </thead>\n",
       "  <tbody>\n",
       "    <tr>\n",
       "      <th>58</th>\n",
       "      <td>Adelie</td>\n",
       "      <td>Biscoe</td>\n",
       "      <td>36.5</td>\n",
       "      <td>16.6</td>\n",
       "      <td>181.0</td>\n",
       "      <td>2850.0</td>\n",
       "      <td>Female</td>\n",
       "    </tr>\n",
       "    <tr>\n",
       "      <th>64</th>\n",
       "      <td>Adelie</td>\n",
       "      <td>Biscoe</td>\n",
       "      <td>36.4</td>\n",
       "      <td>17.1</td>\n",
       "      <td>184.0</td>\n",
       "      <td>2850.0</td>\n",
       "      <td>Female</td>\n",
       "    </tr>\n",
       "    <tr>\n",
       "      <th>54</th>\n",
       "      <td>Adelie</td>\n",
       "      <td>Biscoe</td>\n",
       "      <td>34.5</td>\n",
       "      <td>18.1</td>\n",
       "      <td>187.0</td>\n",
       "      <td>2900.0</td>\n",
       "      <td>Female</td>\n",
       "    </tr>\n",
       "    <tr>\n",
       "      <th>98</th>\n",
       "      <td>Adelie</td>\n",
       "      <td>Dream</td>\n",
       "      <td>33.1</td>\n",
       "      <td>16.1</td>\n",
       "      <td>178.0</td>\n",
       "      <td>2900.0</td>\n",
       "      <td>Female</td>\n",
       "    </tr>\n",
       "    <tr>\n",
       "      <th>116</th>\n",
       "      <td>Adelie</td>\n",
       "      <td>Torgersen</td>\n",
       "      <td>38.6</td>\n",
       "      <td>17.0</td>\n",
       "      <td>188.0</td>\n",
       "      <td>2900.0</td>\n",
       "      <td>Female</td>\n",
       "    </tr>\n",
       "    <tr>\n",
       "      <th>...</th>\n",
       "      <td>...</td>\n",
       "      <td>...</td>\n",
       "      <td>...</td>\n",
       "      <td>...</td>\n",
       "      <td>...</td>\n",
       "      <td>...</td>\n",
       "      <td>...</td>\n",
       "    </tr>\n",
       "    <tr>\n",
       "      <th>331</th>\n",
       "      <td>Gentoo</td>\n",
       "      <td>Biscoe</td>\n",
       "      <td>49.8</td>\n",
       "      <td>15.9</td>\n",
       "      <td>229.0</td>\n",
       "      <td>5950.0</td>\n",
       "      <td>Male</td>\n",
       "    </tr>\n",
       "    <tr>\n",
       "      <th>297</th>\n",
       "      <td>Gentoo</td>\n",
       "      <td>Biscoe</td>\n",
       "      <td>51.1</td>\n",
       "      <td>16.3</td>\n",
       "      <td>220.0</td>\n",
       "      <td>6000.0</td>\n",
       "      <td>Male</td>\n",
       "    </tr>\n",
       "    <tr>\n",
       "      <th>337</th>\n",
       "      <td>Gentoo</td>\n",
       "      <td>Biscoe</td>\n",
       "      <td>48.8</td>\n",
       "      <td>16.2</td>\n",
       "      <td>222.0</td>\n",
       "      <td>6000.0</td>\n",
       "      <td>Male</td>\n",
       "    </tr>\n",
       "    <tr>\n",
       "      <th>253</th>\n",
       "      <td>Gentoo</td>\n",
       "      <td>Biscoe</td>\n",
       "      <td>59.6</td>\n",
       "      <td>17.0</td>\n",
       "      <td>230.0</td>\n",
       "      <td>6050.0</td>\n",
       "      <td>Male</td>\n",
       "    </tr>\n",
       "    <tr>\n",
       "      <th>237</th>\n",
       "      <td>Gentoo</td>\n",
       "      <td>Biscoe</td>\n",
       "      <td>49.2</td>\n",
       "      <td>15.2</td>\n",
       "      <td>221.0</td>\n",
       "      <td>6300.0</td>\n",
       "      <td>Male</td>\n",
       "    </tr>\n",
       "  </tbody>\n",
       "</table>\n",
       "<p>333 rows × 7 columns</p>\n",
       "</div>"
      ],
      "text/plain": [
       "    species     island  bill_length_mm  bill_depth_mm  flipper_length_mm  \\\n",
       "58   Adelie     Biscoe            36.5           16.6              181.0   \n",
       "64   Adelie     Biscoe            36.4           17.1              184.0   \n",
       "54   Adelie     Biscoe            34.5           18.1              187.0   \n",
       "98   Adelie      Dream            33.1           16.1              178.0   \n",
       "116  Adelie  Torgersen            38.6           17.0              188.0   \n",
       "..      ...        ...             ...            ...                ...   \n",
       "331  Gentoo     Biscoe            49.8           15.9              229.0   \n",
       "297  Gentoo     Biscoe            51.1           16.3              220.0   \n",
       "337  Gentoo     Biscoe            48.8           16.2              222.0   \n",
       "253  Gentoo     Biscoe            59.6           17.0              230.0   \n",
       "237  Gentoo     Biscoe            49.2           15.2              221.0   \n",
       "\n",
       "     body_mass_g     sex  \n",
       "58        2850.0  Female  \n",
       "64        2850.0  Female  \n",
       "54        2900.0  Female  \n",
       "98        2900.0  Female  \n",
       "116       2900.0  Female  \n",
       "..           ...     ...  \n",
       "331       5950.0    Male  \n",
       "297       6000.0    Male  \n",
       "337       6000.0    Male  \n",
       "253       6050.0    Male  \n",
       "237       6300.0    Male  \n",
       "\n",
       "[333 rows x 7 columns]"
      ]
     },
     "execution_count": 100,
     "metadata": {},
     "output_type": "execute_result"
    }
   ],
   "source": [
    "df_full.sort_values(['species', 'body_mass_g'])"
   ]
  },
  {
   "cell_type": "markdown",
   "metadata": {
    "id": "bRR0ove1aLBL"
   },
   "source": [
    "The following three questions depend on the taxis dataset."
   ]
  },
  {
   "cell_type": "code",
   "execution_count": 101,
   "metadata": {
    "id": "UXIN5IwbUtOd"
   },
   "outputs": [],
   "source": [
    "df_taxis = sb.load_dataset('taxis')"
   ]
  },
  {
   "cell_type": "code",
   "execution_count": 102,
   "metadata": {},
   "outputs": [
    {
     "data": {
      "text/html": [
       "<div>\n",
       "<style scoped>\n",
       "    .dataframe tbody tr th:only-of-type {\n",
       "        vertical-align: middle;\n",
       "    }\n",
       "\n",
       "    .dataframe tbody tr th {\n",
       "        vertical-align: top;\n",
       "    }\n",
       "\n",
       "    .dataframe thead th {\n",
       "        text-align: right;\n",
       "    }\n",
       "</style>\n",
       "<table border=\"1\" class=\"dataframe\">\n",
       "  <thead>\n",
       "    <tr style=\"text-align: right;\">\n",
       "      <th></th>\n",
       "      <th>pickup</th>\n",
       "      <th>dropoff</th>\n",
       "      <th>passengers</th>\n",
       "      <th>distance</th>\n",
       "      <th>fare</th>\n",
       "      <th>tip</th>\n",
       "      <th>tolls</th>\n",
       "      <th>total</th>\n",
       "      <th>color</th>\n",
       "      <th>payment</th>\n",
       "      <th>pickup_zone</th>\n",
       "      <th>dropoff_zone</th>\n",
       "      <th>pickup_borough</th>\n",
       "      <th>dropoff_borough</th>\n",
       "    </tr>\n",
       "  </thead>\n",
       "  <tbody>\n",
       "    <tr>\n",
       "      <th>0</th>\n",
       "      <td>2019-03-23 20:21:09</td>\n",
       "      <td>2019-03-23 20:27:24</td>\n",
       "      <td>1</td>\n",
       "      <td>1.60</td>\n",
       "      <td>7.0</td>\n",
       "      <td>2.15</td>\n",
       "      <td>0.0</td>\n",
       "      <td>12.95</td>\n",
       "      <td>yellow</td>\n",
       "      <td>credit card</td>\n",
       "      <td>Lenox Hill West</td>\n",
       "      <td>UN/Turtle Bay South</td>\n",
       "      <td>Manhattan</td>\n",
       "      <td>Manhattan</td>\n",
       "    </tr>\n",
       "    <tr>\n",
       "      <th>1</th>\n",
       "      <td>2019-03-04 16:11:55</td>\n",
       "      <td>2019-03-04 16:19:00</td>\n",
       "      <td>1</td>\n",
       "      <td>0.79</td>\n",
       "      <td>5.0</td>\n",
       "      <td>0.00</td>\n",
       "      <td>0.0</td>\n",
       "      <td>9.30</td>\n",
       "      <td>yellow</td>\n",
       "      <td>cash</td>\n",
       "      <td>Upper West Side South</td>\n",
       "      <td>Upper West Side South</td>\n",
       "      <td>Manhattan</td>\n",
       "      <td>Manhattan</td>\n",
       "    </tr>\n",
       "    <tr>\n",
       "      <th>2</th>\n",
       "      <td>2019-03-27 17:53:01</td>\n",
       "      <td>2019-03-27 18:00:25</td>\n",
       "      <td>1</td>\n",
       "      <td>1.37</td>\n",
       "      <td>7.5</td>\n",
       "      <td>2.36</td>\n",
       "      <td>0.0</td>\n",
       "      <td>14.16</td>\n",
       "      <td>yellow</td>\n",
       "      <td>credit card</td>\n",
       "      <td>Alphabet City</td>\n",
       "      <td>West Village</td>\n",
       "      <td>Manhattan</td>\n",
       "      <td>Manhattan</td>\n",
       "    </tr>\n",
       "    <tr>\n",
       "      <th>3</th>\n",
       "      <td>2019-03-10 01:23:59</td>\n",
       "      <td>2019-03-10 01:49:51</td>\n",
       "      <td>1</td>\n",
       "      <td>7.70</td>\n",
       "      <td>27.0</td>\n",
       "      <td>6.15</td>\n",
       "      <td>0.0</td>\n",
       "      <td>36.95</td>\n",
       "      <td>yellow</td>\n",
       "      <td>credit card</td>\n",
       "      <td>Hudson Sq</td>\n",
       "      <td>Yorkville West</td>\n",
       "      <td>Manhattan</td>\n",
       "      <td>Manhattan</td>\n",
       "    </tr>\n",
       "    <tr>\n",
       "      <th>4</th>\n",
       "      <td>2019-03-30 13:27:42</td>\n",
       "      <td>2019-03-30 13:37:14</td>\n",
       "      <td>3</td>\n",
       "      <td>2.16</td>\n",
       "      <td>9.0</td>\n",
       "      <td>1.10</td>\n",
       "      <td>0.0</td>\n",
       "      <td>13.40</td>\n",
       "      <td>yellow</td>\n",
       "      <td>credit card</td>\n",
       "      <td>Midtown East</td>\n",
       "      <td>Yorkville West</td>\n",
       "      <td>Manhattan</td>\n",
       "      <td>Manhattan</td>\n",
       "    </tr>\n",
       "  </tbody>\n",
       "</table>\n",
       "</div>"
      ],
      "text/plain": [
       "                pickup              dropoff  passengers  distance  fare   tip  \\\n",
       "0  2019-03-23 20:21:09  2019-03-23 20:27:24           1      1.60   7.0  2.15   \n",
       "1  2019-03-04 16:11:55  2019-03-04 16:19:00           1      0.79   5.0  0.00   \n",
       "2  2019-03-27 17:53:01  2019-03-27 18:00:25           1      1.37   7.5  2.36   \n",
       "3  2019-03-10 01:23:59  2019-03-10 01:49:51           1      7.70  27.0  6.15   \n",
       "4  2019-03-30 13:27:42  2019-03-30 13:37:14           3      2.16   9.0  1.10   \n",
       "\n",
       "   tolls  total   color      payment            pickup_zone  \\\n",
       "0    0.0  12.95  yellow  credit card        Lenox Hill West   \n",
       "1    0.0   9.30  yellow         cash  Upper West Side South   \n",
       "2    0.0  14.16  yellow  credit card          Alphabet City   \n",
       "3    0.0  36.95  yellow  credit card              Hudson Sq   \n",
       "4    0.0  13.40  yellow  credit card           Midtown East   \n",
       "\n",
       "            dropoff_zone pickup_borough dropoff_borough  \n",
       "0    UN/Turtle Bay South      Manhattan       Manhattan  \n",
       "1  Upper West Side South      Manhattan       Manhattan  \n",
       "2           West Village      Manhattan       Manhattan  \n",
       "3         Yorkville West      Manhattan       Manhattan  \n",
       "4         Yorkville West      Manhattan       Manhattan  "
      ]
     },
     "execution_count": 102,
     "metadata": {},
     "output_type": "execute_result"
    }
   ],
   "source": [
    "df_taxis.head()"
   ]
  },
  {
   "cell_type": "code",
   "execution_count": 103,
   "metadata": {},
   "outputs": [
    {
     "name": "stdout",
     "output_type": "stream",
     "text": [
      "<class 'pandas.core.frame.DataFrame'>\n",
      "RangeIndex: 6433 entries, 0 to 6432\n",
      "Data columns (total 14 columns):\n",
      " #   Column           Non-Null Count  Dtype  \n",
      "---  ------           --------------  -----  \n",
      " 0   pickup           6433 non-null   object \n",
      " 1   dropoff          6433 non-null   object \n",
      " 2   passengers       6433 non-null   int64  \n",
      " 3   distance         6433 non-null   float64\n",
      " 4   fare             6433 non-null   float64\n",
      " 5   tip              6433 non-null   float64\n",
      " 6   tolls            6433 non-null   float64\n",
      " 7   total            6433 non-null   float64\n",
      " 8   color            6433 non-null   object \n",
      " 9   payment          6389 non-null   object \n",
      " 10  pickup_zone      6407 non-null   object \n",
      " 11  dropoff_zone     6388 non-null   object \n",
      " 12  pickup_borough   6407 non-null   object \n",
      " 13  dropoff_borough  6388 non-null   object \n",
      "dtypes: float64(5), int64(1), object(8)\n",
      "memory usage: 703.7+ KB\n"
     ]
    }
   ],
   "source": [
    "df_taxis.info()"
   ]
  },
  {
   "cell_type": "markdown",
   "metadata": {
    "id": "3oh5_pHEbrQp"
   },
   "source": [
    "8. The 'pickup' column contains the date and time the customer picked up, but it's a string.  Add a column to the DataFrame, 'pickup_time', containing the value in 'pickup' as a DateTime."
   ]
  },
  {
   "cell_type": "code",
   "execution_count": 104,
   "metadata": {
    "id": "coNwd-OjUtTp"
   },
   "outputs": [],
   "source": [
    "df_taxis['pickup_time'] = pd.to_datetime(df_taxis['pickup'])"
   ]
  },
  {
   "cell_type": "markdown",
   "metadata": {
    "id": "f7rfz-d2cSRe"
   },
   "source": [
    "9. Create a subset of the dataframe to create a new DataFrame, taxis_one_day. This new DataFrame should have pickup_time values between '2019-03-23 00:06:00' (inclusive) and '2019-03-24 00:00:00' (exlusive)."
   ]
  },
  {
   "cell_type": "code",
   "execution_count": 107,
   "metadata": {
    "id": "AfcUTYPVbjAK"
   },
   "outputs": [],
   "source": [
    "taxis_one_day = df_taxis.query(\"pickup_time >= '2019-03-23 00:06:00' and pickup_time < '2019-03-24 00:00:00'\")"
   ]
  },
  {
   "cell_type": "code",
   "execution_count": 110,
   "metadata": {},
   "outputs": [
    {
     "data": {
      "text/html": [
       "<div>\n",
       "<style scoped>\n",
       "    .dataframe tbody tr th:only-of-type {\n",
       "        vertical-align: middle;\n",
       "    }\n",
       "\n",
       "    .dataframe tbody tr th {\n",
       "        vertical-align: top;\n",
       "    }\n",
       "\n",
       "    .dataframe thead th {\n",
       "        text-align: right;\n",
       "    }\n",
       "</style>\n",
       "<table border=\"1\" class=\"dataframe\">\n",
       "  <thead>\n",
       "    <tr style=\"text-align: right;\">\n",
       "      <th></th>\n",
       "      <th>pickup</th>\n",
       "      <th>dropoff</th>\n",
       "      <th>passengers</th>\n",
       "      <th>distance</th>\n",
       "      <th>fare</th>\n",
       "      <th>tip</th>\n",
       "      <th>tolls</th>\n",
       "      <th>total</th>\n",
       "      <th>color</th>\n",
       "      <th>payment</th>\n",
       "      <th>pickup_zone</th>\n",
       "      <th>dropoff_zone</th>\n",
       "      <th>pickup_borough</th>\n",
       "      <th>dropoff_borough</th>\n",
       "      <th>pickup_time</th>\n",
       "    </tr>\n",
       "  </thead>\n",
       "  <tbody>\n",
       "    <tr>\n",
       "      <th>0</th>\n",
       "      <td>2019-03-23 20:21:09</td>\n",
       "      <td>2019-03-23 20:27:24</td>\n",
       "      <td>1</td>\n",
       "      <td>1.60</td>\n",
       "      <td>7.0</td>\n",
       "      <td>2.15</td>\n",
       "      <td>0.0</td>\n",
       "      <td>12.95</td>\n",
       "      <td>yellow</td>\n",
       "      <td>credit card</td>\n",
       "      <td>Lenox Hill West</td>\n",
       "      <td>UN/Turtle Bay South</td>\n",
       "      <td>Manhattan</td>\n",
       "      <td>Manhattan</td>\n",
       "      <td>2019-03-23 20:21:09</td>\n",
       "    </tr>\n",
       "    <tr>\n",
       "      <th>8</th>\n",
       "      <td>2019-03-23 11:48:50</td>\n",
       "      <td>2019-03-23 12:06:14</td>\n",
       "      <td>1</td>\n",
       "      <td>3.63</td>\n",
       "      <td>15.0</td>\n",
       "      <td>1.00</td>\n",
       "      <td>0.0</td>\n",
       "      <td>19.30</td>\n",
       "      <td>yellow</td>\n",
       "      <td>credit card</td>\n",
       "      <td>East Harlem South</td>\n",
       "      <td>Midtown Center</td>\n",
       "      <td>Manhattan</td>\n",
       "      <td>Manhattan</td>\n",
       "      <td>2019-03-23 11:48:50</td>\n",
       "    </tr>\n",
       "    <tr>\n",
       "      <th>17</th>\n",
       "      <td>2019-03-23 20:50:49</td>\n",
       "      <td>2019-03-23 21:02:07</td>\n",
       "      <td>1</td>\n",
       "      <td>2.60</td>\n",
       "      <td>10.5</td>\n",
       "      <td>2.00</td>\n",
       "      <td>0.0</td>\n",
       "      <td>16.30</td>\n",
       "      <td>yellow</td>\n",
       "      <td>credit card</td>\n",
       "      <td>Midtown Center</td>\n",
       "      <td>East Harlem South</td>\n",
       "      <td>Manhattan</td>\n",
       "      <td>Manhattan</td>\n",
       "      <td>2019-03-23 20:50:49</td>\n",
       "    </tr>\n",
       "    <tr>\n",
       "      <th>117</th>\n",
       "      <td>2019-03-23 09:39:25</td>\n",
       "      <td>2019-03-23 09:56:45</td>\n",
       "      <td>0</td>\n",
       "      <td>3.60</td>\n",
       "      <td>15.5</td>\n",
       "      <td>3.75</td>\n",
       "      <td>0.0</td>\n",
       "      <td>22.55</td>\n",
       "      <td>yellow</td>\n",
       "      <td>credit card</td>\n",
       "      <td>Yorkville East</td>\n",
       "      <td>Penn Station/Madison Sq West</td>\n",
       "      <td>Manhattan</td>\n",
       "      <td>Manhattan</td>\n",
       "      <td>2019-03-23 09:39:25</td>\n",
       "    </tr>\n",
       "    <tr>\n",
       "      <th>144</th>\n",
       "      <td>2019-03-23 18:35:01</td>\n",
       "      <td>2019-03-23 18:47:39</td>\n",
       "      <td>1</td>\n",
       "      <td>3.20</td>\n",
       "      <td>12.5</td>\n",
       "      <td>2.00</td>\n",
       "      <td>0.0</td>\n",
       "      <td>17.80</td>\n",
       "      <td>yellow</td>\n",
       "      <td>credit card</td>\n",
       "      <td>UN/Turtle Bay South</td>\n",
       "      <td>East Village</td>\n",
       "      <td>Manhattan</td>\n",
       "      <td>Manhattan</td>\n",
       "      <td>2019-03-23 18:35:01</td>\n",
       "    </tr>\n",
       "    <tr>\n",
       "      <th>...</th>\n",
       "      <td>...</td>\n",
       "      <td>...</td>\n",
       "      <td>...</td>\n",
       "      <td>...</td>\n",
       "      <td>...</td>\n",
       "      <td>...</td>\n",
       "      <td>...</td>\n",
       "      <td>...</td>\n",
       "      <td>...</td>\n",
       "      <td>...</td>\n",
       "      <td>...</td>\n",
       "      <td>...</td>\n",
       "      <td>...</td>\n",
       "      <td>...</td>\n",
       "      <td>...</td>\n",
       "    </tr>\n",
       "    <tr>\n",
       "      <th>6325</th>\n",
       "      <td>2019-03-23 20:52:40</td>\n",
       "      <td>2019-03-23 21:10:12</td>\n",
       "      <td>1</td>\n",
       "      <td>3.62</td>\n",
       "      <td>14.5</td>\n",
       "      <td>0.00</td>\n",
       "      <td>0.0</td>\n",
       "      <td>15.80</td>\n",
       "      <td>green</td>\n",
       "      <td>cash</td>\n",
       "      <td>Long Island City/Hunters Point</td>\n",
       "      <td>Steinway</td>\n",
       "      <td>Queens</td>\n",
       "      <td>Queens</td>\n",
       "      <td>2019-03-23 20:52:40</td>\n",
       "    </tr>\n",
       "    <tr>\n",
       "      <th>6331</th>\n",
       "      <td>2019-03-23 11:27:00</td>\n",
       "      <td>2019-03-23 12:20:11</td>\n",
       "      <td>1</td>\n",
       "      <td>7.67</td>\n",
       "      <td>28.0</td>\n",
       "      <td>0.00</td>\n",
       "      <td>0.0</td>\n",
       "      <td>28.00</td>\n",
       "      <td>green</td>\n",
       "      <td>cash</td>\n",
       "      <td>Jackson Heights</td>\n",
       "      <td>Maspeth</td>\n",
       "      <td>Queens</td>\n",
       "      <td>Queens</td>\n",
       "      <td>2019-03-23 11:27:00</td>\n",
       "    </tr>\n",
       "    <tr>\n",
       "      <th>6338</th>\n",
       "      <td>2019-03-23 18:05:38</td>\n",
       "      <td>2019-03-23 18:25:36</td>\n",
       "      <td>1</td>\n",
       "      <td>2.82</td>\n",
       "      <td>14.0</td>\n",
       "      <td>0.00</td>\n",
       "      <td>0.0</td>\n",
       "      <td>14.80</td>\n",
       "      <td>green</td>\n",
       "      <td>credit card</td>\n",
       "      <td>Claremont/Bathgate</td>\n",
       "      <td>Spuyten Duyvil/Kingsbridge</td>\n",
       "      <td>Bronx</td>\n",
       "      <td>Bronx</td>\n",
       "      <td>2019-03-23 18:05:38</td>\n",
       "    </tr>\n",
       "    <tr>\n",
       "      <th>6427</th>\n",
       "      <td>2019-03-23 18:26:09</td>\n",
       "      <td>2019-03-23 18:49:12</td>\n",
       "      <td>1</td>\n",
       "      <td>7.07</td>\n",
       "      <td>20.0</td>\n",
       "      <td>0.00</td>\n",
       "      <td>0.0</td>\n",
       "      <td>20.00</td>\n",
       "      <td>green</td>\n",
       "      <td>cash</td>\n",
       "      <td>Parkchester</td>\n",
       "      <td>East Harlem South</td>\n",
       "      <td>Bronx</td>\n",
       "      <td>Manhattan</td>\n",
       "      <td>2019-03-23 18:26:09</td>\n",
       "    </tr>\n",
       "    <tr>\n",
       "      <th>6430</th>\n",
       "      <td>2019-03-23 22:55:18</td>\n",
       "      <td>2019-03-23 23:14:25</td>\n",
       "      <td>1</td>\n",
       "      <td>4.14</td>\n",
       "      <td>16.0</td>\n",
       "      <td>0.00</td>\n",
       "      <td>0.0</td>\n",
       "      <td>17.30</td>\n",
       "      <td>green</td>\n",
       "      <td>cash</td>\n",
       "      <td>Crown Heights North</td>\n",
       "      <td>Bushwick North</td>\n",
       "      <td>Brooklyn</td>\n",
       "      <td>Brooklyn</td>\n",
       "      <td>2019-03-23 22:55:18</td>\n",
       "    </tr>\n",
       "  </tbody>\n",
       "</table>\n",
       "<p>209 rows × 15 columns</p>\n",
       "</div>"
      ],
      "text/plain": [
       "                   pickup              dropoff  passengers  distance  fare  \\\n",
       "0     2019-03-23 20:21:09  2019-03-23 20:27:24           1      1.60   7.0   \n",
       "8     2019-03-23 11:48:50  2019-03-23 12:06:14           1      3.63  15.0   \n",
       "17    2019-03-23 20:50:49  2019-03-23 21:02:07           1      2.60  10.5   \n",
       "117   2019-03-23 09:39:25  2019-03-23 09:56:45           0      3.60  15.5   \n",
       "144   2019-03-23 18:35:01  2019-03-23 18:47:39           1      3.20  12.5   \n",
       "...                   ...                  ...         ...       ...   ...   \n",
       "6325  2019-03-23 20:52:40  2019-03-23 21:10:12           1      3.62  14.5   \n",
       "6331  2019-03-23 11:27:00  2019-03-23 12:20:11           1      7.67  28.0   \n",
       "6338  2019-03-23 18:05:38  2019-03-23 18:25:36           1      2.82  14.0   \n",
       "6427  2019-03-23 18:26:09  2019-03-23 18:49:12           1      7.07  20.0   \n",
       "6430  2019-03-23 22:55:18  2019-03-23 23:14:25           1      4.14  16.0   \n",
       "\n",
       "       tip  tolls  total   color      payment                     pickup_zone  \\\n",
       "0     2.15    0.0  12.95  yellow  credit card                 Lenox Hill West   \n",
       "8     1.00    0.0  19.30  yellow  credit card               East Harlem South   \n",
       "17    2.00    0.0  16.30  yellow  credit card                  Midtown Center   \n",
       "117   3.75    0.0  22.55  yellow  credit card                  Yorkville East   \n",
       "144   2.00    0.0  17.80  yellow  credit card             UN/Turtle Bay South   \n",
       "...    ...    ...    ...     ...          ...                             ...   \n",
       "6325  0.00    0.0  15.80   green         cash  Long Island City/Hunters Point   \n",
       "6331  0.00    0.0  28.00   green         cash                 Jackson Heights   \n",
       "6338  0.00    0.0  14.80   green  credit card              Claremont/Bathgate   \n",
       "6427  0.00    0.0  20.00   green         cash                     Parkchester   \n",
       "6430  0.00    0.0  17.30   green         cash             Crown Heights North   \n",
       "\n",
       "                      dropoff_zone pickup_borough dropoff_borough  \\\n",
       "0              UN/Turtle Bay South      Manhattan       Manhattan   \n",
       "8                   Midtown Center      Manhattan       Manhattan   \n",
       "17               East Harlem South      Manhattan       Manhattan   \n",
       "117   Penn Station/Madison Sq West      Manhattan       Manhattan   \n",
       "144                   East Village      Manhattan       Manhattan   \n",
       "...                            ...            ...             ...   \n",
       "6325                      Steinway         Queens          Queens   \n",
       "6331                       Maspeth         Queens          Queens   \n",
       "6338    Spuyten Duyvil/Kingsbridge          Bronx           Bronx   \n",
       "6427             East Harlem South          Bronx       Manhattan   \n",
       "6430                Bushwick North       Brooklyn        Brooklyn   \n",
       "\n",
       "             pickup_time  \n",
       "0    2019-03-23 20:21:09  \n",
       "8    2019-03-23 11:48:50  \n",
       "17   2019-03-23 20:50:49  \n",
       "117  2019-03-23 09:39:25  \n",
       "144  2019-03-23 18:35:01  \n",
       "...                  ...  \n",
       "6325 2019-03-23 20:52:40  \n",
       "6331 2019-03-23 11:27:00  \n",
       "6338 2019-03-23 18:05:38  \n",
       "6427 2019-03-23 18:26:09  \n",
       "6430 2019-03-23 22:55:18  \n",
       "\n",
       "[209 rows x 15 columns]"
      ]
     },
     "execution_count": 110,
     "metadata": {},
     "output_type": "execute_result"
    }
   ],
   "source": [
    "taxis_one_day"
   ]
  },
  {
   "cell_type": "markdown",
   "metadata": {
    "id": "k9ErqDN-cf84"
   },
   "source": [
    "10. From the dataframe in Question 9, take the mean of the numeric columns, grouped at one hour intervals.  Save the result as df_means, and display it."
   ]
  },
  {
   "cell_type": "code",
   "execution_count": 118,
   "metadata": {},
   "outputs": [
    {
     "data": {
      "text/html": [
       "<div>\n",
       "<style scoped>\n",
       "    .dataframe tbody tr th:only-of-type {\n",
       "        vertical-align: middle;\n",
       "    }\n",
       "\n",
       "    .dataframe tbody tr th {\n",
       "        vertical-align: top;\n",
       "    }\n",
       "\n",
       "    .dataframe thead th {\n",
       "        text-align: right;\n",
       "    }\n",
       "</style>\n",
       "<table border=\"1\" class=\"dataframe\">\n",
       "  <thead>\n",
       "    <tr style=\"text-align: right;\">\n",
       "      <th></th>\n",
       "      <th>passengers</th>\n",
       "      <th>distance</th>\n",
       "      <th>fare</th>\n",
       "      <th>tip</th>\n",
       "      <th>tolls</th>\n",
       "      <th>total</th>\n",
       "    </tr>\n",
       "    <tr>\n",
       "      <th>pickup_time</th>\n",
       "      <th></th>\n",
       "      <th></th>\n",
       "      <th></th>\n",
       "      <th></th>\n",
       "      <th></th>\n",
       "      <th></th>\n",
       "    </tr>\n",
       "  </thead>\n",
       "  <tbody>\n",
       "    <tr>\n",
       "      <th>2019-03-23 00:00:00</th>\n",
       "      <td>1.000000</td>\n",
       "      <td>1.911667</td>\n",
       "      <td>8.583333</td>\n",
       "      <td>1.415000</td>\n",
       "      <td>0.000000</td>\n",
       "      <td>12.965000</td>\n",
       "    </tr>\n",
       "    <tr>\n",
       "      <th>2019-03-23 01:00:00</th>\n",
       "      <td>1.250000</td>\n",
       "      <td>1.325000</td>\n",
       "      <td>7.875000</td>\n",
       "      <td>1.525000</td>\n",
       "      <td>0.000000</td>\n",
       "      <td>12.575000</td>\n",
       "    </tr>\n",
       "    <tr>\n",
       "      <th>2019-03-23 02:00:00</th>\n",
       "      <td>1.727273</td>\n",
       "      <td>1.739091</td>\n",
       "      <td>8.181818</td>\n",
       "      <td>1.641818</td>\n",
       "      <td>0.000000</td>\n",
       "      <td>13.169091</td>\n",
       "    </tr>\n",
       "    <tr>\n",
       "      <th>2019-03-23 03:00:00</th>\n",
       "      <td>1.500000</td>\n",
       "      <td>3.377500</td>\n",
       "      <td>11.750000</td>\n",
       "      <td>2.410000</td>\n",
       "      <td>0.000000</td>\n",
       "      <td>17.335000</td>\n",
       "    </tr>\n",
       "    <tr>\n",
       "      <th>2019-03-23 04:00:00</th>\n",
       "      <td>2.000000</td>\n",
       "      <td>0.950000</td>\n",
       "      <td>5.500000</td>\n",
       "      <td>0.915000</td>\n",
       "      <td>0.000000</td>\n",
       "      <td>10.215000</td>\n",
       "    </tr>\n",
       "    <tr>\n",
       "      <th>2019-03-23 05:00:00</th>\n",
       "      <td>2.000000</td>\n",
       "      <td>1.270000</td>\n",
       "      <td>6.000000</td>\n",
       "      <td>0.980000</td>\n",
       "      <td>0.000000</td>\n",
       "      <td>10.530000</td>\n",
       "    </tr>\n",
       "    <tr>\n",
       "      <th>2019-03-23 06:00:00</th>\n",
       "      <td>1.000000</td>\n",
       "      <td>0.400000</td>\n",
       "      <td>21.500000</td>\n",
       "      <td>0.000000</td>\n",
       "      <td>0.000000</td>\n",
       "      <td>23.133333</td>\n",
       "    </tr>\n",
       "    <tr>\n",
       "      <th>2019-03-23 07:00:00</th>\n",
       "      <td>2.333333</td>\n",
       "      <td>0.980000</td>\n",
       "      <td>5.250000</td>\n",
       "      <td>1.165000</td>\n",
       "      <td>0.000000</td>\n",
       "      <td>9.298333</td>\n",
       "    </tr>\n",
       "    <tr>\n",
       "      <th>2019-03-23 08:00:00</th>\n",
       "      <td>1.000000</td>\n",
       "      <td>0.020000</td>\n",
       "      <td>2.500000</td>\n",
       "      <td>0.000000</td>\n",
       "      <td>0.000000</td>\n",
       "      <td>3.300000</td>\n",
       "    </tr>\n",
       "    <tr>\n",
       "      <th>2019-03-23 09:00:00</th>\n",
       "      <td>1.500000</td>\n",
       "      <td>1.352000</td>\n",
       "      <td>7.400000</td>\n",
       "      <td>1.674000</td>\n",
       "      <td>0.000000</td>\n",
       "      <td>12.124000</td>\n",
       "    </tr>\n",
       "    <tr>\n",
       "      <th>2019-03-23 10:00:00</th>\n",
       "      <td>1.000000</td>\n",
       "      <td>1.760000</td>\n",
       "      <td>8.750000</td>\n",
       "      <td>0.727500</td>\n",
       "      <td>0.000000</td>\n",
       "      <td>12.152500</td>\n",
       "    </tr>\n",
       "    <tr>\n",
       "      <th>2019-03-23 11:00:00</th>\n",
       "      <td>1.909091</td>\n",
       "      <td>2.070000</td>\n",
       "      <td>11.090909</td>\n",
       "      <td>0.803636</td>\n",
       "      <td>0.000000</td>\n",
       "      <td>14.667273</td>\n",
       "    </tr>\n",
       "    <tr>\n",
       "      <th>2019-03-23 12:00:00</th>\n",
       "      <td>2.000000</td>\n",
       "      <td>2.267143</td>\n",
       "      <td>10.260000</td>\n",
       "      <td>0.645714</td>\n",
       "      <td>0.000000</td>\n",
       "      <td>13.420000</td>\n",
       "    </tr>\n",
       "    <tr>\n",
       "      <th>2019-03-23 13:00:00</th>\n",
       "      <td>2.500000</td>\n",
       "      <td>1.167000</td>\n",
       "      <td>7.550000</td>\n",
       "      <td>2.074000</td>\n",
       "      <td>0.000000</td>\n",
       "      <td>12.344000</td>\n",
       "    </tr>\n",
       "    <tr>\n",
       "      <th>2019-03-23 14:00:00</th>\n",
       "      <td>2.470588</td>\n",
       "      <td>4.752941</td>\n",
       "      <td>18.330000</td>\n",
       "      <td>1.945294</td>\n",
       "      <td>1.003529</td>\n",
       "      <td>24.267059</td>\n",
       "    </tr>\n",
       "    <tr>\n",
       "      <th>2019-03-23 15:00:00</th>\n",
       "      <td>1.000000</td>\n",
       "      <td>6.557143</td>\n",
       "      <td>22.214286</td>\n",
       "      <td>3.210000</td>\n",
       "      <td>1.645714</td>\n",
       "      <td>30.370000</td>\n",
       "    </tr>\n",
       "    <tr>\n",
       "      <th>2019-03-23 16:00:00</th>\n",
       "      <td>2.000000</td>\n",
       "      <td>2.194545</td>\n",
       "      <td>10.454545</td>\n",
       "      <td>1.109091</td>\n",
       "      <td>0.000000</td>\n",
       "      <td>14.431818</td>\n",
       "    </tr>\n",
       "    <tr>\n",
       "      <th>2019-03-23 17:00:00</th>\n",
       "      <td>1.090909</td>\n",
       "      <td>1.913636</td>\n",
       "      <td>14.818182</td>\n",
       "      <td>2.688182</td>\n",
       "      <td>0.523636</td>\n",
       "      <td>20.739091</td>\n",
       "    </tr>\n",
       "    <tr>\n",
       "      <th>2019-03-23 18:00:00</th>\n",
       "      <td>1.571429</td>\n",
       "      <td>3.206429</td>\n",
       "      <td>12.821429</td>\n",
       "      <td>0.844286</td>\n",
       "      <td>0.411429</td>\n",
       "      <td>16.427143</td>\n",
       "    </tr>\n",
       "    <tr>\n",
       "      <th>2019-03-23 19:00:00</th>\n",
       "      <td>1.526316</td>\n",
       "      <td>2.097895</td>\n",
       "      <td>10.263158</td>\n",
       "      <td>1.176316</td>\n",
       "      <td>0.000000</td>\n",
       "      <td>14.226316</td>\n",
       "    </tr>\n",
       "    <tr>\n",
       "      <th>2019-03-23 20:00:00</th>\n",
       "      <td>1.400000</td>\n",
       "      <td>2.448000</td>\n",
       "      <td>11.100000</td>\n",
       "      <td>1.544000</td>\n",
       "      <td>0.000000</td>\n",
       "      <td>15.944000</td>\n",
       "    </tr>\n",
       "    <tr>\n",
       "      <th>2019-03-23 21:00:00</th>\n",
       "      <td>1.000000</td>\n",
       "      <td>2.017143</td>\n",
       "      <td>10.571429</td>\n",
       "      <td>1.420000</td>\n",
       "      <td>0.000000</td>\n",
       "      <td>15.791429</td>\n",
       "    </tr>\n",
       "    <tr>\n",
       "      <th>2019-03-23 22:00:00</th>\n",
       "      <td>1.307692</td>\n",
       "      <td>1.881538</td>\n",
       "      <td>8.923077</td>\n",
       "      <td>1.094615</td>\n",
       "      <td>0.000000</td>\n",
       "      <td>13.433077</td>\n",
       "    </tr>\n",
       "    <tr>\n",
       "      <th>2019-03-23 23:00:00</th>\n",
       "      <td>1.615385</td>\n",
       "      <td>3.725385</td>\n",
       "      <td>15.115385</td>\n",
       "      <td>1.696154</td>\n",
       "      <td>0.000000</td>\n",
       "      <td>20.034615</td>\n",
       "    </tr>\n",
       "  </tbody>\n",
       "</table>\n",
       "</div>"
      ],
      "text/plain": [
       "                     passengers  distance       fare       tip     tolls  \\\n",
       "pickup_time                                                                \n",
       "2019-03-23 00:00:00    1.000000  1.911667   8.583333  1.415000  0.000000   \n",
       "2019-03-23 01:00:00    1.250000  1.325000   7.875000  1.525000  0.000000   \n",
       "2019-03-23 02:00:00    1.727273  1.739091   8.181818  1.641818  0.000000   \n",
       "2019-03-23 03:00:00    1.500000  3.377500  11.750000  2.410000  0.000000   \n",
       "2019-03-23 04:00:00    2.000000  0.950000   5.500000  0.915000  0.000000   \n",
       "2019-03-23 05:00:00    2.000000  1.270000   6.000000  0.980000  0.000000   \n",
       "2019-03-23 06:00:00    1.000000  0.400000  21.500000  0.000000  0.000000   \n",
       "2019-03-23 07:00:00    2.333333  0.980000   5.250000  1.165000  0.000000   \n",
       "2019-03-23 08:00:00    1.000000  0.020000   2.500000  0.000000  0.000000   \n",
       "2019-03-23 09:00:00    1.500000  1.352000   7.400000  1.674000  0.000000   \n",
       "2019-03-23 10:00:00    1.000000  1.760000   8.750000  0.727500  0.000000   \n",
       "2019-03-23 11:00:00    1.909091  2.070000  11.090909  0.803636  0.000000   \n",
       "2019-03-23 12:00:00    2.000000  2.267143  10.260000  0.645714  0.000000   \n",
       "2019-03-23 13:00:00    2.500000  1.167000   7.550000  2.074000  0.000000   \n",
       "2019-03-23 14:00:00    2.470588  4.752941  18.330000  1.945294  1.003529   \n",
       "2019-03-23 15:00:00    1.000000  6.557143  22.214286  3.210000  1.645714   \n",
       "2019-03-23 16:00:00    2.000000  2.194545  10.454545  1.109091  0.000000   \n",
       "2019-03-23 17:00:00    1.090909  1.913636  14.818182  2.688182  0.523636   \n",
       "2019-03-23 18:00:00    1.571429  3.206429  12.821429  0.844286  0.411429   \n",
       "2019-03-23 19:00:00    1.526316  2.097895  10.263158  1.176316  0.000000   \n",
       "2019-03-23 20:00:00    1.400000  2.448000  11.100000  1.544000  0.000000   \n",
       "2019-03-23 21:00:00    1.000000  2.017143  10.571429  1.420000  0.000000   \n",
       "2019-03-23 22:00:00    1.307692  1.881538   8.923077  1.094615  0.000000   \n",
       "2019-03-23 23:00:00    1.615385  3.725385  15.115385  1.696154  0.000000   \n",
       "\n",
       "                         total  \n",
       "pickup_time                     \n",
       "2019-03-23 00:00:00  12.965000  \n",
       "2019-03-23 01:00:00  12.575000  \n",
       "2019-03-23 02:00:00  13.169091  \n",
       "2019-03-23 03:00:00  17.335000  \n",
       "2019-03-23 04:00:00  10.215000  \n",
       "2019-03-23 05:00:00  10.530000  \n",
       "2019-03-23 06:00:00  23.133333  \n",
       "2019-03-23 07:00:00   9.298333  \n",
       "2019-03-23 08:00:00   3.300000  \n",
       "2019-03-23 09:00:00  12.124000  \n",
       "2019-03-23 10:00:00  12.152500  \n",
       "2019-03-23 11:00:00  14.667273  \n",
       "2019-03-23 12:00:00  13.420000  \n",
       "2019-03-23 13:00:00  12.344000  \n",
       "2019-03-23 14:00:00  24.267059  \n",
       "2019-03-23 15:00:00  30.370000  \n",
       "2019-03-23 16:00:00  14.431818  \n",
       "2019-03-23 17:00:00  20.739091  \n",
       "2019-03-23 18:00:00  16.427143  \n",
       "2019-03-23 19:00:00  14.226316  \n",
       "2019-03-23 20:00:00  15.944000  \n",
       "2019-03-23 21:00:00  15.791429  \n",
       "2019-03-23 22:00:00  13.433077  \n",
       "2019-03-23 23:00:00  20.034615  "
      ]
     },
     "execution_count": 118,
     "metadata": {},
     "output_type": "execute_result"
    }
   ],
   "source": [
    "# method 1:\n",
    "taxis_one_day.groupby(pd.Grouper(key='pickup_time', freq='60Min')).mean()"
   ]
  },
  {
   "cell_type": "code",
   "execution_count": 114,
   "metadata": {
    "id": "Ul7rGs1bbjC8"
   },
   "outputs": [
    {
     "data": {
      "text/html": [
       "<div>\n",
       "<style scoped>\n",
       "    .dataframe tbody tr th:only-of-type {\n",
       "        vertical-align: middle;\n",
       "    }\n",
       "\n",
       "    .dataframe tbody tr th {\n",
       "        vertical-align: top;\n",
       "    }\n",
       "\n",
       "    .dataframe thead th {\n",
       "        text-align: right;\n",
       "    }\n",
       "</style>\n",
       "<table border=\"1\" class=\"dataframe\">\n",
       "  <thead>\n",
       "    <tr style=\"text-align: right;\">\n",
       "      <th></th>\n",
       "      <th>passengers</th>\n",
       "      <th>distance</th>\n",
       "      <th>fare</th>\n",
       "      <th>tip</th>\n",
       "      <th>tolls</th>\n",
       "      <th>total</th>\n",
       "    </tr>\n",
       "    <tr>\n",
       "      <th>pickup_time</th>\n",
       "      <th></th>\n",
       "      <th></th>\n",
       "      <th></th>\n",
       "      <th></th>\n",
       "      <th></th>\n",
       "      <th></th>\n",
       "    </tr>\n",
       "  </thead>\n",
       "  <tbody>\n",
       "    <tr>\n",
       "      <th>2019-03-23 00:00:00</th>\n",
       "      <td>1.000000</td>\n",
       "      <td>1.911667</td>\n",
       "      <td>8.583333</td>\n",
       "      <td>1.415000</td>\n",
       "      <td>0.000000</td>\n",
       "      <td>12.965000</td>\n",
       "    </tr>\n",
       "    <tr>\n",
       "      <th>2019-03-23 01:00:00</th>\n",
       "      <td>1.250000</td>\n",
       "      <td>1.325000</td>\n",
       "      <td>7.875000</td>\n",
       "      <td>1.525000</td>\n",
       "      <td>0.000000</td>\n",
       "      <td>12.575000</td>\n",
       "    </tr>\n",
       "    <tr>\n",
       "      <th>2019-03-23 02:00:00</th>\n",
       "      <td>1.727273</td>\n",
       "      <td>1.739091</td>\n",
       "      <td>8.181818</td>\n",
       "      <td>1.641818</td>\n",
       "      <td>0.000000</td>\n",
       "      <td>13.169091</td>\n",
       "    </tr>\n",
       "    <tr>\n",
       "      <th>2019-03-23 03:00:00</th>\n",
       "      <td>1.500000</td>\n",
       "      <td>3.377500</td>\n",
       "      <td>11.750000</td>\n",
       "      <td>2.410000</td>\n",
       "      <td>0.000000</td>\n",
       "      <td>17.335000</td>\n",
       "    </tr>\n",
       "    <tr>\n",
       "      <th>2019-03-23 04:00:00</th>\n",
       "      <td>2.000000</td>\n",
       "      <td>0.950000</td>\n",
       "      <td>5.500000</td>\n",
       "      <td>0.915000</td>\n",
       "      <td>0.000000</td>\n",
       "      <td>10.215000</td>\n",
       "    </tr>\n",
       "    <tr>\n",
       "      <th>2019-03-23 05:00:00</th>\n",
       "      <td>2.000000</td>\n",
       "      <td>1.270000</td>\n",
       "      <td>6.000000</td>\n",
       "      <td>0.980000</td>\n",
       "      <td>0.000000</td>\n",
       "      <td>10.530000</td>\n",
       "    </tr>\n",
       "    <tr>\n",
       "      <th>2019-03-23 06:00:00</th>\n",
       "      <td>1.000000</td>\n",
       "      <td>0.400000</td>\n",
       "      <td>21.500000</td>\n",
       "      <td>0.000000</td>\n",
       "      <td>0.000000</td>\n",
       "      <td>23.133333</td>\n",
       "    </tr>\n",
       "    <tr>\n",
       "      <th>2019-03-23 07:00:00</th>\n",
       "      <td>2.333333</td>\n",
       "      <td>0.980000</td>\n",
       "      <td>5.250000</td>\n",
       "      <td>1.165000</td>\n",
       "      <td>0.000000</td>\n",
       "      <td>9.298333</td>\n",
       "    </tr>\n",
       "    <tr>\n",
       "      <th>2019-03-23 08:00:00</th>\n",
       "      <td>1.000000</td>\n",
       "      <td>0.020000</td>\n",
       "      <td>2.500000</td>\n",
       "      <td>0.000000</td>\n",
       "      <td>0.000000</td>\n",
       "      <td>3.300000</td>\n",
       "    </tr>\n",
       "    <tr>\n",
       "      <th>2019-03-23 09:00:00</th>\n",
       "      <td>1.500000</td>\n",
       "      <td>1.352000</td>\n",
       "      <td>7.400000</td>\n",
       "      <td>1.674000</td>\n",
       "      <td>0.000000</td>\n",
       "      <td>12.124000</td>\n",
       "    </tr>\n",
       "    <tr>\n",
       "      <th>2019-03-23 10:00:00</th>\n",
       "      <td>1.000000</td>\n",
       "      <td>1.760000</td>\n",
       "      <td>8.750000</td>\n",
       "      <td>0.727500</td>\n",
       "      <td>0.000000</td>\n",
       "      <td>12.152500</td>\n",
       "    </tr>\n",
       "    <tr>\n",
       "      <th>2019-03-23 11:00:00</th>\n",
       "      <td>1.909091</td>\n",
       "      <td>2.070000</td>\n",
       "      <td>11.090909</td>\n",
       "      <td>0.803636</td>\n",
       "      <td>0.000000</td>\n",
       "      <td>14.667273</td>\n",
       "    </tr>\n",
       "    <tr>\n",
       "      <th>2019-03-23 12:00:00</th>\n",
       "      <td>2.000000</td>\n",
       "      <td>2.267143</td>\n",
       "      <td>10.260000</td>\n",
       "      <td>0.645714</td>\n",
       "      <td>0.000000</td>\n",
       "      <td>13.420000</td>\n",
       "    </tr>\n",
       "    <tr>\n",
       "      <th>2019-03-23 13:00:00</th>\n",
       "      <td>2.500000</td>\n",
       "      <td>1.167000</td>\n",
       "      <td>7.550000</td>\n",
       "      <td>2.074000</td>\n",
       "      <td>0.000000</td>\n",
       "      <td>12.344000</td>\n",
       "    </tr>\n",
       "    <tr>\n",
       "      <th>2019-03-23 14:00:00</th>\n",
       "      <td>2.470588</td>\n",
       "      <td>4.752941</td>\n",
       "      <td>18.330000</td>\n",
       "      <td>1.945294</td>\n",
       "      <td>1.003529</td>\n",
       "      <td>24.267059</td>\n",
       "    </tr>\n",
       "    <tr>\n",
       "      <th>2019-03-23 15:00:00</th>\n",
       "      <td>1.000000</td>\n",
       "      <td>6.557143</td>\n",
       "      <td>22.214286</td>\n",
       "      <td>3.210000</td>\n",
       "      <td>1.645714</td>\n",
       "      <td>30.370000</td>\n",
       "    </tr>\n",
       "    <tr>\n",
       "      <th>2019-03-23 16:00:00</th>\n",
       "      <td>2.000000</td>\n",
       "      <td>2.194545</td>\n",
       "      <td>10.454545</td>\n",
       "      <td>1.109091</td>\n",
       "      <td>0.000000</td>\n",
       "      <td>14.431818</td>\n",
       "    </tr>\n",
       "    <tr>\n",
       "      <th>2019-03-23 17:00:00</th>\n",
       "      <td>1.090909</td>\n",
       "      <td>1.913636</td>\n",
       "      <td>14.818182</td>\n",
       "      <td>2.688182</td>\n",
       "      <td>0.523636</td>\n",
       "      <td>20.739091</td>\n",
       "    </tr>\n",
       "    <tr>\n",
       "      <th>2019-03-23 18:00:00</th>\n",
       "      <td>1.571429</td>\n",
       "      <td>3.206429</td>\n",
       "      <td>12.821429</td>\n",
       "      <td>0.844286</td>\n",
       "      <td>0.411429</td>\n",
       "      <td>16.427143</td>\n",
       "    </tr>\n",
       "    <tr>\n",
       "      <th>2019-03-23 19:00:00</th>\n",
       "      <td>1.526316</td>\n",
       "      <td>2.097895</td>\n",
       "      <td>10.263158</td>\n",
       "      <td>1.176316</td>\n",
       "      <td>0.000000</td>\n",
       "      <td>14.226316</td>\n",
       "    </tr>\n",
       "    <tr>\n",
       "      <th>2019-03-23 20:00:00</th>\n",
       "      <td>1.400000</td>\n",
       "      <td>2.448000</td>\n",
       "      <td>11.100000</td>\n",
       "      <td>1.544000</td>\n",
       "      <td>0.000000</td>\n",
       "      <td>15.944000</td>\n",
       "    </tr>\n",
       "    <tr>\n",
       "      <th>2019-03-23 21:00:00</th>\n",
       "      <td>1.000000</td>\n",
       "      <td>2.017143</td>\n",
       "      <td>10.571429</td>\n",
       "      <td>1.420000</td>\n",
       "      <td>0.000000</td>\n",
       "      <td>15.791429</td>\n",
       "    </tr>\n",
       "    <tr>\n",
       "      <th>2019-03-23 22:00:00</th>\n",
       "      <td>1.307692</td>\n",
       "      <td>1.881538</td>\n",
       "      <td>8.923077</td>\n",
       "      <td>1.094615</td>\n",
       "      <td>0.000000</td>\n",
       "      <td>13.433077</td>\n",
       "    </tr>\n",
       "    <tr>\n",
       "      <th>2019-03-23 23:00:00</th>\n",
       "      <td>1.615385</td>\n",
       "      <td>3.725385</td>\n",
       "      <td>15.115385</td>\n",
       "      <td>1.696154</td>\n",
       "      <td>0.000000</td>\n",
       "      <td>20.034615</td>\n",
       "    </tr>\n",
       "  </tbody>\n",
       "</table>\n",
       "</div>"
      ],
      "text/plain": [
       "                     passengers  distance       fare       tip     tolls  \\\n",
       "pickup_time                                                                \n",
       "2019-03-23 00:00:00    1.000000  1.911667   8.583333  1.415000  0.000000   \n",
       "2019-03-23 01:00:00    1.250000  1.325000   7.875000  1.525000  0.000000   \n",
       "2019-03-23 02:00:00    1.727273  1.739091   8.181818  1.641818  0.000000   \n",
       "2019-03-23 03:00:00    1.500000  3.377500  11.750000  2.410000  0.000000   \n",
       "2019-03-23 04:00:00    2.000000  0.950000   5.500000  0.915000  0.000000   \n",
       "2019-03-23 05:00:00    2.000000  1.270000   6.000000  0.980000  0.000000   \n",
       "2019-03-23 06:00:00    1.000000  0.400000  21.500000  0.000000  0.000000   \n",
       "2019-03-23 07:00:00    2.333333  0.980000   5.250000  1.165000  0.000000   \n",
       "2019-03-23 08:00:00    1.000000  0.020000   2.500000  0.000000  0.000000   \n",
       "2019-03-23 09:00:00    1.500000  1.352000   7.400000  1.674000  0.000000   \n",
       "2019-03-23 10:00:00    1.000000  1.760000   8.750000  0.727500  0.000000   \n",
       "2019-03-23 11:00:00    1.909091  2.070000  11.090909  0.803636  0.000000   \n",
       "2019-03-23 12:00:00    2.000000  2.267143  10.260000  0.645714  0.000000   \n",
       "2019-03-23 13:00:00    2.500000  1.167000   7.550000  2.074000  0.000000   \n",
       "2019-03-23 14:00:00    2.470588  4.752941  18.330000  1.945294  1.003529   \n",
       "2019-03-23 15:00:00    1.000000  6.557143  22.214286  3.210000  1.645714   \n",
       "2019-03-23 16:00:00    2.000000  2.194545  10.454545  1.109091  0.000000   \n",
       "2019-03-23 17:00:00    1.090909  1.913636  14.818182  2.688182  0.523636   \n",
       "2019-03-23 18:00:00    1.571429  3.206429  12.821429  0.844286  0.411429   \n",
       "2019-03-23 19:00:00    1.526316  2.097895  10.263158  1.176316  0.000000   \n",
       "2019-03-23 20:00:00    1.400000  2.448000  11.100000  1.544000  0.000000   \n",
       "2019-03-23 21:00:00    1.000000  2.017143  10.571429  1.420000  0.000000   \n",
       "2019-03-23 22:00:00    1.307692  1.881538   8.923077  1.094615  0.000000   \n",
       "2019-03-23 23:00:00    1.615385  3.725385  15.115385  1.696154  0.000000   \n",
       "\n",
       "                         total  \n",
       "pickup_time                     \n",
       "2019-03-23 00:00:00  12.965000  \n",
       "2019-03-23 01:00:00  12.575000  \n",
       "2019-03-23 02:00:00  13.169091  \n",
       "2019-03-23 03:00:00  17.335000  \n",
       "2019-03-23 04:00:00  10.215000  \n",
       "2019-03-23 05:00:00  10.530000  \n",
       "2019-03-23 06:00:00  23.133333  \n",
       "2019-03-23 07:00:00   9.298333  \n",
       "2019-03-23 08:00:00   3.300000  \n",
       "2019-03-23 09:00:00  12.124000  \n",
       "2019-03-23 10:00:00  12.152500  \n",
       "2019-03-23 11:00:00  14.667273  \n",
       "2019-03-23 12:00:00  13.420000  \n",
       "2019-03-23 13:00:00  12.344000  \n",
       "2019-03-23 14:00:00  24.267059  \n",
       "2019-03-23 15:00:00  30.370000  \n",
       "2019-03-23 16:00:00  14.431818  \n",
       "2019-03-23 17:00:00  20.739091  \n",
       "2019-03-23 18:00:00  16.427143  \n",
       "2019-03-23 19:00:00  14.226316  \n",
       "2019-03-23 20:00:00  15.944000  \n",
       "2019-03-23 21:00:00  15.791429  \n",
       "2019-03-23 22:00:00  13.433077  \n",
       "2019-03-23 23:00:00  20.034615  "
      ]
     },
     "execution_count": 114,
     "metadata": {},
     "output_type": "execute_result"
    }
   ],
   "source": [
    "# method 2:\n",
    "taxis_one_day.set_index('pickup_time').resample('60min').mean()"
   ]
  },
  {
   "cell_type": "markdown",
   "metadata": {
    "id": "gGLHwogaZX0-"
   },
   "source": [
    "Check https://colab.research.google.com/github/CodeSolid/CodeSolid.github.io/blob/main/booksource/exercises/PandasExercises.ipynb for more Pandas exercises."
   ]
  },
  {
   "cell_type": "code",
   "execution_count": null,
   "metadata": {
    "id": "Yag0a9H7ZbQe"
   },
   "outputs": [],
   "source": []
  }
 ],
 "metadata": {
  "colab": {
   "collapsed_sections": [],
   "name": "Week1_Exercises.ipynb",
   "provenance": []
  },
  "kernelspec": {
   "display_name": "Python 3",
   "language": "python",
   "name": "python3"
  },
  "language_info": {
   "codemirror_mode": {
    "name": "ipython",
    "version": 3
   },
   "file_extension": ".py",
   "mimetype": "text/x-python",
   "name": "python",
   "nbconvert_exporter": "python",
   "pygments_lexer": "ipython3",
   "version": "3.8.8"
  }
 },
 "nbformat": 4,
 "nbformat_minor": 1
}
